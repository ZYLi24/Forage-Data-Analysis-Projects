{
 "cells": [
  {
   "cell_type": "code",
   "execution_count": 1,
   "id": "45eb95c8",
   "metadata": {},
   "outputs": [],
   "source": [
    "import pandas as pd\n",
    "from pandas import Series, DataFrame\n",
    "import numpy as np\n",
    "import matplotlib.pyplot as plt\n",
    "import scipy.stats as ss\n",
    "from scipy.stats import ttest_ind\n",
    "from scipy.stats import levene"
   ]
  },
  {
   "cell_type": "code",
   "execution_count": 2,
   "id": "771563ff",
   "metadata": {},
   "outputs": [],
   "source": [
    "purchase = pd.read_csv('QVI_purchase_behaviour.csv')\n",
    "transaction = pd.read_excel('QVI_transaction_data.xlsx')"
   ]
  },
  {
   "cell_type": "markdown",
   "id": "af250aee",
   "metadata": {},
   "source": [
    "## Overall Inspecting"
   ]
  },
  {
   "cell_type": "code",
   "execution_count": 3,
   "id": "80169f65",
   "metadata": {},
   "outputs": [
    {
     "name": "stdout",
     "output_type": "stream",
     "text": [
      "   LYLTY_CARD_NBR               LIFESTAGE PREMIUM_CUSTOMER\n",
      "0            1000   YOUNG SINGLES/COUPLES          Premium\n",
      "1            1002   YOUNG SINGLES/COUPLES       Mainstream\n",
      "2            1003          YOUNG FAMILIES           Budget\n",
      "3            1004   OLDER SINGLES/COUPLES       Mainstream\n",
      "4            1005  MIDAGE SINGLES/COUPLES       Mainstream\n",
      "\n",
      "Number of rows and columns\n",
      "(72637, 3)\n",
      "\n",
      "------------------------------------------\n",
      "\n",
      "    DATE  STORE_NBR  LYLTY_CARD_NBR  TXN_ID  PROD_NBR  \\\n",
      "0  43390          1            1000       1         5   \n",
      "1  43599          1            1307     348        66   \n",
      "2  43605          1            1343     383        61   \n",
      "3  43329          2            2373     974        69   \n",
      "4  43330          2            2426    1038       108   \n",
      "\n",
      "                                  PROD_NAME  PROD_QTY  TOT_SALES  \n",
      "0    Natural Chip        Compny SeaSalt175g         2        6.0  \n",
      "1                  CCs Nacho Cheese    175g         3        6.3  \n",
      "2    Smiths Crinkle Cut  Chips Chicken 170g         2        2.9  \n",
      "3    Smiths Chip Thinly  S/Cream&Onion 175g         5       15.0  \n",
      "4  Kettle Tortilla ChpsHny&Jlpno Chili 150g         3       13.8  \n",
      "\n",
      "Number of rows and columns\n",
      "(264836, 8)\n"
     ]
    }
   ],
   "source": [
    "# First look on dataset\n",
    "print(purchase.head())\n",
    "print('\\n' + 'Number of rows and columns')\n",
    "print(purchase.shape)\n",
    "print('\\n' + '------------------------------------------' + '\\n')\n",
    "print(transaction.head())\n",
    "print('\\n' + 'Number of rows and columns')\n",
    "print(transaction.shape)"
   ]
  },
  {
   "cell_type": "code",
   "execution_count": 4,
   "id": "f9f3f581",
   "metadata": {},
   "outputs": [
    {
     "name": "stdout",
     "output_type": "stream",
     "text": [
      "LYLTY_CARD_NBR       int64\n",
      "LIFESTAGE           object\n",
      "PREMIUM_CUSTOMER    object\n",
      "dtype: object\n",
      "\n",
      "--------------------------------\n",
      "\n",
      "DATE                int64\n",
      "STORE_NBR           int64\n",
      "LYLTY_CARD_NBR      int64\n",
      "TXN_ID              int64\n",
      "PROD_NBR            int64\n",
      "PROD_NAME          object\n",
      "PROD_QTY            int64\n",
      "TOT_SALES         float64\n",
      "dtype: object\n"
     ]
    }
   ],
   "source": [
    "#Checking the data tpyes\n",
    "print(purchase.dtypes)\n",
    "print('\\n' + '--------------------------------' + '\\n')\n",
    "print(transaction.dtypes)"
   ]
  },
  {
   "cell_type": "markdown",
   "id": "ecbb477c",
   "metadata": {},
   "source": [
    "## Dealing with Date"
   ]
  },
  {
   "cell_type": "code",
   "execution_count": 5,
   "id": "12bab1c3",
   "metadata": {},
   "outputs": [],
   "source": [
    "# Transform date format\n",
    "def trans_date(date):\n",
    "    norm_date = pd.to_datetime('1899-12-30') + pd.Timedelta(str(date)+'d')\n",
    "    return norm_date\n",
    "\n",
    "transaction['DATE'] = transaction['DATE'].apply(trans_date)"
   ]
  },
  {
   "cell_type": "code",
   "execution_count": 6,
   "id": "472130cc",
   "metadata": {},
   "outputs": [
    {
     "data": {
      "text/plain": [
       "0   2018-10-17\n",
       "1   2019-05-14\n",
       "2   2019-05-20\n",
       "3   2018-08-17\n",
       "4   2018-08-18\n",
       "Name: DATE, dtype: datetime64[ns]"
      ]
     },
     "execution_count": 6,
     "metadata": {},
     "output_type": "execute_result"
    }
   ],
   "source": [
    "transaction['DATE'].head()"
   ]
  },
  {
   "cell_type": "code",
   "execution_count": 7,
   "id": "50366c89",
   "metadata": {},
   "outputs": [
    {
     "data": {
      "text/plain": [
       "177   2018-12-25\n",
       "Name: 0, dtype: datetime64[ns]"
      ]
     },
     "execution_count": 7,
     "metadata": {},
     "output_type": "execute_result"
    }
   ],
   "source": [
    "#Checking whether there is any missing date\n",
    "DATE_SORTED = DataFrame(transaction['DATE'].unique()).sort_values(by=0, ascending=True)\n",
    "DATE_SORTED.reset_index(drop=True,inplace=True) # All date in dataset in correct order\n",
    "ALL_TIME = DataFrame(pd.date_range('7/1/2018', '6/30/2019')) # All date\n",
    "\n",
    "#The missing date\n",
    "ALL_TIME[0].iloc[ALL_TIME[0].isin(DATE_SORTED[0])[ALL_TIME[0].isin(DATE_SORTED[0]) == False].index]"
   ]
  },
  {
   "cell_type": "markdown",
   "id": "d41bd027",
   "metadata": {},
   "source": [
    "## Checking Null Values"
   ]
  },
  {
   "cell_type": "code",
   "execution_count": 8,
   "id": "356e2727",
   "metadata": {},
   "outputs": [
    {
     "name": "stdout",
     "output_type": "stream",
     "text": [
      "LYLTY_CARD_NBR      0\n",
      "LIFESTAGE           0\n",
      "PREMIUM_CUSTOMER    0\n",
      "dtype: int64\n",
      "DATE              0\n",
      "STORE_NBR         0\n",
      "LYLTY_CARD_NBR    0\n",
      "TXN_ID            0\n",
      "PROD_NBR          0\n",
      "PROD_NAME         0\n",
      "PROD_QTY          0\n",
      "TOT_SALES         0\n",
      "dtype: int64\n"
     ]
    }
   ],
   "source": [
    "print(purchase.isnull().sum())\n",
    "print(transaction.isnull().sum())"
   ]
  },
  {
   "cell_type": "markdown",
   "id": "94d308ce",
   "metadata": {},
   "source": [
    "## Checking Duplicated Values"
   ]
  },
  {
   "cell_type": "code",
   "execution_count": 9,
   "id": "a9cae269",
   "metadata": {},
   "outputs": [
    {
     "name": "stdout",
     "output_type": "stream",
     "text": [
      "Empty DataFrame\n",
      "Columns: [LYLTY_CARD_NBR, LIFESTAGE, PREMIUM_CUSTOMER]\n",
      "Index: []\n",
      "------------\n",
      "             DATE  STORE_NBR  LYLTY_CARD_NBR  TXN_ID  PROD_NBR  \\\n",
      "124845 2018-10-01        107          107024  108462        45   \n",
      "\n",
      "                                     PROD_NAME  PROD_QTY  TOT_SALES  \n",
      "124845  Smiths Thinly Cut   Roast Chicken 175g         2        6.0  \n"
     ]
    }
   ],
   "source": [
    "print(purchase[purchase.duplicated()])\n",
    "print('------------')\n",
    "print(transaction[transaction.duplicated()])"
   ]
  },
  {
   "cell_type": "code",
   "execution_count": 10,
   "id": "8462a084",
   "metadata": {},
   "outputs": [],
   "source": [
    "#Delete the duplicated values\n",
    "transaction.drop_duplicates(inplace=True)\n",
    "\n",
    "#Because we drop some rows, so we need to resetting the index\n",
    "transaction.reset_index(drop=True,inplace=True)"
   ]
  },
  {
   "cell_type": "markdown",
   "id": "fb3ae804",
   "metadata": {},
   "source": [
    "## Checking Outliers"
   ]
  },
  {
   "cell_type": "code",
   "execution_count": 11,
   "id": "29c7bf8e",
   "metadata": {},
   "outputs": [
    {
     "data": {
      "text/plain": [
       "DATE              0\n",
       "STORE_NBR         0\n",
       "LYLTY_CARD_NBR    0\n",
       "TXN_ID            0\n",
       "PROD_NBR          0\n",
       "PROD_NAME         0\n",
       "PROD_QTY          0\n",
       "TOT_SALES         0\n",
       "dtype: int64"
      ]
     },
     "execution_count": 11,
     "metadata": {},
     "output_type": "execute_result"
    }
   ],
   "source": [
    "#Checking whethere there is any unreasonable qty and amount\n",
    "transaction[(transaction['TOT_SALES'] <= 0) | (transaction['PROD_QTY'] <= 0)].count()"
   ]
  },
  {
   "cell_type": "code",
   "execution_count": 12,
   "id": "63759a59",
   "metadata": {},
   "outputs": [
    {
     "data": {
      "image/png": "[encoded data removed]",
      "text/plain": [
       "<Figure size 432x288 with 1 Axes>"
      ]
     },
     "metadata": {
      "needs_background": "light"
     },
     "output_type": "display_data"
    }
   ],
   "source": [
    "#Checking extreme values by boxplot\n",
    "boxplot = transaction.boxplot(column=['PROD_QTY','TOT_SALES'])"
   ]
  },
  {
   "cell_type": "code",
   "execution_count": 13,
   "id": "dffb1794",
   "metadata": {},
   "outputs": [
    {
     "data": {
      "text/html": [
       "<div>\n",
       "<style scoped>\n",
       "    .dataframe tbody tr th:only-of-type {\n",
       "        vertical-align: middle;\n",
       "    }\n",
       "\n",
       "    .dataframe tbody tr th {\n",
       "        vertical-align: top;\n",
       "    }\n",
       "\n",
       "    .dataframe thead th {\n",
       "        text-align: right;\n",
       "    }\n",
       "</style>\n",
       "<table border=\"1\" class=\"dataframe\">\n",
       "  <thead>\n",
       "    <tr style=\"text-align: right;\">\n",
       "      <th></th>\n",
       "      <th>DATE</th>\n",
       "      <th>STORE_NBR</th>\n",
       "      <th>LYLTY_CARD_NBR</th>\n",
       "      <th>TXN_ID</th>\n",
       "      <th>PROD_NBR</th>\n",
       "      <th>PROD_NAME</th>\n",
       "      <th>PROD_QTY</th>\n",
       "      <th>TOT_SALES</th>\n",
       "    </tr>\n",
       "  </thead>\n",
       "  <tbody>\n",
       "    <tr>\n",
       "      <th>69762</th>\n",
       "      <td>2018-08-19</td>\n",
       "      <td>226</td>\n",
       "      <td>226000</td>\n",
       "      <td>226201</td>\n",
       "      <td>4</td>\n",
       "      <td>Dorito Corn Chp     Supreme 380g</td>\n",
       "      <td>200</td>\n",
       "      <td>650.0</td>\n",
       "    </tr>\n",
       "    <tr>\n",
       "      <th>69763</th>\n",
       "      <td>2019-05-20</td>\n",
       "      <td>226</td>\n",
       "      <td>226000</td>\n",
       "      <td>226210</td>\n",
       "      <td>4</td>\n",
       "      <td>Dorito Corn Chp     Supreme 380g</td>\n",
       "      <td>200</td>\n",
       "      <td>650.0</td>\n",
       "    </tr>\n",
       "  </tbody>\n",
       "</table>\n",
       "</div>"
      ],
      "text/plain": [
       "            DATE  STORE_NBR  LYLTY_CARD_NBR  TXN_ID  PROD_NBR  \\\n",
       "69762 2018-08-19        226          226000  226201         4   \n",
       "69763 2019-05-20        226          226000  226210         4   \n",
       "\n",
       "                              PROD_NAME  PROD_QTY  TOT_SALES  \n",
       "69762  Dorito Corn Chp     Supreme 380g       200      650.0  \n",
       "69763  Dorito Corn Chp     Supreme 380g       200      650.0  "
      ]
     },
     "execution_count": 13,
     "metadata": {},
     "output_type": "execute_result"
    }
   ],
   "source": [
    "transaction[transaction['PROD_QTY'] > 100]"
   ]
  },
  {
   "cell_type": "code",
   "execution_count": 14,
   "id": "fc482d45",
   "metadata": {},
   "outputs": [
    {
     "data": {
      "text/html": [
       "<div>\n",
       "<style scoped>\n",
       "    .dataframe tbody tr th:only-of-type {\n",
       "        vertical-align: middle;\n",
       "    }\n",
       "\n",
       "    .dataframe tbody tr th {\n",
       "        vertical-align: top;\n",
       "    }\n",
       "\n",
       "    .dataframe thead th {\n",
       "        text-align: right;\n",
       "    }\n",
       "</style>\n",
       "<table border=\"1\" class=\"dataframe\">\n",
       "  <thead>\n",
       "    <tr style=\"text-align: right;\">\n",
       "      <th></th>\n",
       "      <th>LYLTY_CARD_NBR</th>\n",
       "      <th>LIFESTAGE</th>\n",
       "      <th>PREMIUM_CUSTOMER</th>\n",
       "    </tr>\n",
       "  </thead>\n",
       "  <tbody>\n",
       "    <tr>\n",
       "      <th>59694</th>\n",
       "      <td>226000</td>\n",
       "      <td>OLDER FAMILIES</td>\n",
       "      <td>Premium</td>\n",
       "    </tr>\n",
       "  </tbody>\n",
       "</table>\n",
       "</div>"
      ],
      "text/plain": [
       "       LYLTY_CARD_NBR       LIFESTAGE PREMIUM_CUSTOMER\n",
       "59694          226000  OLDER FAMILIES          Premium"
      ]
     },
     "execution_count": 14,
     "metadata": {},
     "output_type": "execute_result"
    }
   ],
   "source": [
    "# Checking who the buyer and other orders of this buyer\n",
    "purchase[purchase['LYLTY_CARD_NBR'] == 226000]"
   ]
  },
  {
   "cell_type": "code",
   "execution_count": 15,
   "id": "3641f695",
   "metadata": {},
   "outputs": [],
   "source": [
    "# For chips buying activities, normallly people don't buy 200 units, so let's delete the 69762 & 69763\n",
    "transaction = transaction.drop(index=[69762, 69763])"
   ]
  },
  {
   "cell_type": "code",
   "execution_count": 16,
   "id": "55a1f22d",
   "metadata": {},
   "outputs": [
    {
     "data": {
      "text/html": [
       "<div>\n",
       "<style scoped>\n",
       "    .dataframe tbody tr th:only-of-type {\n",
       "        vertical-align: middle;\n",
       "    }\n",
       "\n",
       "    .dataframe tbody tr th {\n",
       "        vertical-align: top;\n",
       "    }\n",
       "\n",
       "    .dataframe thead th {\n",
       "        text-align: right;\n",
       "    }\n",
       "</style>\n",
       "<table border=\"1\" class=\"dataframe\">\n",
       "  <thead>\n",
       "    <tr style=\"text-align: right;\">\n",
       "      <th></th>\n",
       "      <th>DATE</th>\n",
       "      <th>STORE_NBR</th>\n",
       "      <th>LYLTY_CARD_NBR</th>\n",
       "      <th>TXN_ID</th>\n",
       "      <th>PROD_NBR</th>\n",
       "      <th>PROD_NAME</th>\n",
       "      <th>PROD_QTY</th>\n",
       "      <th>TOT_SALES</th>\n",
       "    </tr>\n",
       "  </thead>\n",
       "  <tbody>\n",
       "  </tbody>\n",
       "</table>\n",
       "</div>"
      ],
      "text/plain": [
       "Empty DataFrame\n",
       "Columns: [DATE, STORE_NBR, LYLTY_CARD_NBR, TXN_ID, PROD_NBR, PROD_NAME, PROD_QTY, TOT_SALES]\n",
       "Index: []"
      ]
     },
     "execution_count": 16,
     "metadata": {},
     "output_type": "execute_result"
    }
   ],
   "source": [
    "# Checking whether there are wrong LYLTY_CARD_NBR\n",
    "transaction[~transaction.LYLTY_CARD_NBR.isin(purchase['LYLTY_CARD_NBR'])]"
   ]
  },
  {
   "cell_type": "code",
   "execution_count": 17,
   "id": "d6995f4c",
   "metadata": {},
   "outputs": [],
   "source": [
    "#Because we drop some rows, so we need to resetting the index\n",
    "transaction.reset_index(drop=True,inplace=True)"
   ]
  },
  {
   "cell_type": "markdown",
   "id": "0fa32d2d",
   "metadata": {},
   "source": [
    "## Dealing with Product Name & other Product features"
   ]
  },
  {
   "cell_type": "code",
   "execution_count": 18,
   "id": "21158127",
   "metadata": {},
   "outputs": [
    {
     "data": {
      "text/plain": [
       "0           Natural Chip        Compny SeaSalt175g\n",
       "1                         CCs Nacho Cheese    175g\n",
       "2           Smiths Crinkle Cut  Chips Chicken 170g\n",
       "3           Smiths Chip Thinly  S/Cream&Onion 175g\n",
       "4         Kettle Tortilla ChpsHny&Jlpno Chili 150g\n",
       "                            ...                   \n",
       "264828     Kettle Sweet Chilli And Sour Cream 175g\n",
       "264829               Tostitos Splash Of  Lime 175g\n",
       "264830                    Doritos Mexicana    170g\n",
       "264831     Doritos Corn Chip Mexican Jalapeno 150g\n",
       "264832               Tostitos Splash Of  Lime 175g\n",
       "Name: PROD_NAME, Length: 264833, dtype: object"
      ]
     },
     "execution_count": 18,
     "metadata": {},
     "output_type": "execute_result"
    }
   ],
   "source": [
    "transaction['PROD_NAME']"
   ]
  },
  {
   "cell_type": "code",
   "execution_count": 19,
   "id": "c1fe6574",
   "metadata": {},
   "outputs": [],
   "source": [
    "#Splitting the product name and weight\n",
    "# Removing duplicated spaces and special characters\n",
    "#Assume the frist words of product name are all brand name, and the last ones are weight\n",
    "\n",
    "transaction['PROD_NAME'].replace(r'(\\d+)', r' \\1', inplace=True, regex=True) # space before weight\n",
    "transaction['PROD_NAME'].replace(r'\\s+' , ' ', inplace=True, regex=True) # remove extra space\n",
    "transaction['PROD_NAME'].replace(r'\\&', ' ', inplace=True, regex=True) # remove &\n",
    "\n",
    "TEMP_PROD_SPLIT = transaction['PROD_NAME'].str.split() # split PROD_NAME\n",
    "transaction['BRAND_NAME'] = TEMP_PROD_SPLIT.str[0]\n",
    "transaction['WEIGHT_g'] = TEMP_PROD_SPLIT.str[-1]\n",
    "transaction['CHIP_NAME'] = TEMP_PROD_SPLIT.str[1:-1]\n",
    "\n",
    "#For Weight, Kettle 135g Swt Pot Sea Salt is a outlier, we need to fix this\n",
    "transaction['WEIGHT_g'].replace('Salt', '135g', inplace=True)\n",
    "#Delete g in WEIGHT and Change it to int\n",
    "transaction['WEIGHT_g'].replace(r'[a-zA-Z]', '', inplace=True, regex=True)\n",
    "transaction['WEIGHT_g'] = transaction['WEIGHT_g'].astype('int64')"
   ]
  },
  {
   "cell_type": "code",
   "execution_count": 20,
   "id": "cefc190f",
   "metadata": {},
   "outputs": [],
   "source": [
    "#Add unit price of product\n",
    "transaction['UNIT_PRICE'] = transaction['TOT_SALES']/transaction['PROD_QTY']"
   ]
  },
  {
   "cell_type": "code",
   "execution_count": 21,
   "id": "e6ea29a1",
   "metadata": {},
   "outputs": [],
   "source": [
    "#Checking the words in chip name\n",
    "MOST_COMM = transaction['CHIP_NAME'].apply(lambda x: Series(x))"
   ]
  },
  {
   "cell_type": "code",
   "execution_count": 22,
   "id": "11722b53",
   "metadata": {},
   "outputs": [
    {
     "data": {
      "text/plain": [
       "Chips       49770\n",
       "Cheese      27890\n",
       "Salt        24719\n",
       "Crinkle     23960\n",
       "Corn        22061\n",
       "Original    21560\n",
       "Cut         20753\n",
       "Chip        18645\n",
       "Chicken     18576\n",
       "Salsa       18094\n",
       "Chilli      15390\n",
       "Sea         14145\n",
       "Sour        13882\n",
       "Crisps      12607\n",
       "Vinegar     12402\n",
       "Sweet       11060\n",
       "Supreme     10961\n",
       "Chives      10951\n",
       "Cream       10723\n",
       "Popd         9693\n",
       "Name: value, dtype: int64"
      ]
     },
     "execution_count": 22,
     "metadata": {},
     "output_type": "execute_result"
    }
   ],
   "source": [
    "MOST_COMM.melt()['value'].value_counts().head(20)"
   ]
  },
  {
   "cell_type": "code",
   "execution_count": 23,
   "id": "cd6ab4ad",
   "metadata": {},
   "outputs": [],
   "source": [
    "# The client is not interested in Salsa, so delete salas items\n",
    "transaction.drop(MOST_COMM[MOST_COMM.isin(['Salsa']).any(axis=1) == True].index, inplace=True) # Check the rows contain Salsa and drop"
   ]
  },
  {
   "cell_type": "code",
   "execution_count": 24,
   "id": "677caa0a",
   "metadata": {},
   "outputs": [],
   "source": [
    "#Because we drop some rows, so we need to resetting the index\n",
    "transaction.reset_index(drop=True,inplace=True)"
   ]
  },
  {
   "cell_type": "code",
   "execution_count": 25,
   "id": "aa31f467",
   "metadata": {},
   "outputs": [
    {
     "name": "stdout",
     "output_type": "stream",
     "text": [
      "Kettle        41288\n",
      "Smiths        27389\n",
      "Pringles      25102\n",
      "Doritos       22041\n",
      "Thins         14075\n",
      "RRD           11894\n",
      "Infuzions     11057\n",
      "WW            10320\n",
      "Cobs           9693\n",
      "Tostitos       9471\n",
      "Twisties       9454\n",
      "Tyrrells       6442\n",
      "Grain          6272\n",
      "Natural        6050\n",
      "Cheezels       4603\n",
      "CCs            4551\n",
      "Red            4427\n",
      "Dorito         3183\n",
      "Infzns         3144\n",
      "Smith          2963\n",
      "Cheetos        2927\n",
      "Snbts          1576\n",
      "Burger         1564\n",
      "Woolworths     1516\n",
      "GrnWves        1468\n",
      "Sunbites       1432\n",
      "NCC            1419\n",
      "French         1418\n",
      "Name: BRAND_NAME, dtype: int64\n"
     ]
    }
   ],
   "source": [
    "# Checking the brands\n",
    "print(transaction['BRAND_NAME'].value_counts())\n",
    "\n",
    "#Red & RRD are the same brand, so convert all RRD to Red\n",
    "transaction['BRAND_NAME'].replace('RRD', 'Red', inplace=True)\n",
    "\n",
    "#Natural & NCC are the same brand, so convert all NCC to Natural\n",
    "transaction['BRAND_NAME'].replace('NCC', 'Natural', inplace=True)"
   ]
  },
  {
   "cell_type": "markdown",
   "id": "a767d366",
   "metadata": {},
   "source": [
    "## Combine two tables"
   ]
  },
  {
   "cell_type": "code",
   "execution_count": 26,
   "id": "6efc7cc6",
   "metadata": {},
   "outputs": [],
   "source": [
    "comb_table = transaction.merge(purchase, on='LYLTY_CARD_NBR', how='left')"
   ]
  },
  {
   "cell_type": "code",
   "execution_count": 27,
   "id": "48ce0cb6",
   "metadata": {},
   "outputs": [
    {
     "data": {
      "text/plain": [
       "array(['DATE', 'STORE_NBR', 'LYLTY_CARD_NBR', 'TXN_ID', 'PROD_NBR',\n",
       "       'PROD_NAME', 'PROD_QTY', 'TOT_SALES', 'BRAND_NAME', 'WEIGHT_g',\n",
       "       'CHIP_NAME', 'UNIT_PRICE', 'LIFESTAGE', 'PREMIUM_CUSTOMER'],\n",
       "      dtype=object)"
      ]
     },
     "execution_count": 27,
     "metadata": {},
     "output_type": "execute_result"
    }
   ],
   "source": [
    "comb_table.columns.values"
   ]
  },
  {
   "cell_type": "code",
   "execution_count": 28,
   "id": "e91e4405",
   "metadata": {},
   "outputs": [],
   "source": [
    "comb_table.to_csv('comb_dataset.csv')"
   ]
  },
  {
   "cell_type": "markdown",
   "id": "a5489d64",
   "metadata": {},
   "source": [
    "### Basic info of data"
   ]
  },
  {
   "cell_type": "code",
   "execution_count": 29,
   "id": "0ff8ed85",
   "metadata": {},
   "outputs": [
    {
     "data": {
      "text/plain": [
       "LIFESTAGE         MIDAGE SINGLES/COUPLES     7275.0\n",
       "                  NEW FAMILIES               2549.0\n",
       "                  OLDER FAMILIES             9780.0\n",
       "                  OLDER SINGLES/COUPLES     14609.0\n",
       "                  RETIREES                  14805.0\n",
       "                  YOUNG FAMILIES             9178.0\n",
       "                  YOUNG SINGLES/COUPLES     14441.0\n",
       "PREMIUM_CUSTOMER  Budget                    24470.0\n",
       "                  Mainstream                29245.0\n",
       "                  Premium                   18922.0\n",
       "dtype: float64"
      ]
     },
     "execution_count": 29,
     "metadata": {},
     "output_type": "execute_result"
    }
   ],
   "source": [
    "purchase[['LIFESTAGE', 'PREMIUM_CUSTOMER']].apply(lambda x: x.value_counts()).T.stack()"
   ]
  },
  {
   "cell_type": "code",
   "execution_count": 30,
   "id": "6769648a",
   "metadata": {},
   "outputs": [
    {
     "data": {
      "text/plain": [
       "BRAND_NAME  Burger         1564.0\n",
       "            CCs            4551.0\n",
       "            Cheetos        2927.0\n",
       "            Cheezels       4603.0\n",
       "            Cobs           9693.0\n",
       "            Dorito         3183.0\n",
       "            Doritos       22041.0\n",
       "            French         1418.0\n",
       "            Grain          6272.0\n",
       "            GrnWves        1468.0\n",
       "            Infuzions     11057.0\n",
       "            Infzns         3144.0\n",
       "            Kettle        41288.0\n",
       "            Natural        7469.0\n",
       "            Pringles      25102.0\n",
       "            Red           16321.0\n",
       "            Smith          2963.0\n",
       "            Smiths        27389.0\n",
       "            Snbts          1576.0\n",
       "            Sunbites       1432.0\n",
       "            Thins         14075.0\n",
       "            Tostitos       9471.0\n",
       "            Twisties       9454.0\n",
       "            Tyrrells       6442.0\n",
       "            WW            10320.0\n",
       "            Woolworths     1516.0\n",
       "WEIGHT_g    70             1507.0\n",
       "            90             3008.0\n",
       "            110           22387.0\n",
       "            125            1454.0\n",
       "            134           25102.0\n",
       "            135            3257.0\n",
       "            150           40203.0\n",
       "            160            2970.0\n",
       "            165           15297.0\n",
       "            170           19983.0\n",
       "            175           66389.0\n",
       "            180            1468.0\n",
       "            190            2995.0\n",
       "            200            4473.0\n",
       "            210            6272.0\n",
       "            220            1564.0\n",
       "            250            3169.0\n",
       "            270            6285.0\n",
       "            330           12540.0\n",
       "            380            6416.0\n",
       "dtype: float64"
      ]
     },
     "execution_count": 30,
     "metadata": {},
     "output_type": "execute_result"
    }
   ],
   "source": [
    "transaction[['BRAND_NAME', 'WEIGHT_g']].apply(lambda x: x.value_counts()).T.stack()"
   ]
  },
  {
   "cell_type": "code",
   "execution_count": 31,
   "id": "0fef2291",
   "metadata": {},
   "outputs": [
    {
     "data": {
      "text/plain": [
       "STORE_NBR  226    1916\n",
       "           88     1786\n",
       "           165    1741\n",
       "           237    1714\n",
       "           93     1699\n",
       "                  ... \n",
       "           252       2\n",
       "           206       2\n",
       "           85        2\n",
       "           76        1\n",
       "           92        1\n",
       "Length: 271, dtype: int64"
      ]
     },
     "execution_count": 31,
     "metadata": {},
     "output_type": "execute_result"
    }
   ],
   "source": [
    "transaction[['STORE_NBR']].apply(lambda x: x.value_counts()).T.stack()"
   ]
  },
  {
   "cell_type": "code",
   "execution_count": 32,
   "id": "4dc85fad",
   "metadata": {},
   "outputs": [
    {
     "data": {
      "text/html": [
       "<div>\n",
       "<style scoped>\n",
       "    .dataframe tbody tr th:only-of-type {\n",
       "        vertical-align: middle;\n",
       "    }\n",
       "\n",
       "    .dataframe tbody tr th {\n",
       "        vertical-align: top;\n",
       "    }\n",
       "\n",
       "    .dataframe thead th {\n",
       "        text-align: right;\n",
       "    }\n",
       "</style>\n",
       "<table border=\"1\" class=\"dataframe\">\n",
       "  <thead>\n",
       "    <tr style=\"text-align: right;\">\n",
       "      <th></th>\n",
       "      <th>PROD_QTY</th>\n",
       "      <th>WEIGHT_g</th>\n",
       "      <th>TOT_SALES</th>\n",
       "      <th>UNIT_PRICE</th>\n",
       "    </tr>\n",
       "  </thead>\n",
       "  <tbody>\n",
       "    <tr>\n",
       "      <th>count</th>\n",
       "      <td>246739.000000</td>\n",
       "      <td>246739.000000</td>\n",
       "      <td>246739.000000</td>\n",
       "      <td>246739.000000</td>\n",
       "    </tr>\n",
       "    <tr>\n",
       "      <th>mean</th>\n",
       "      <td>1.906456</td>\n",
       "      <td>175.583523</td>\n",
       "      <td>7.316118</td>\n",
       "      <td>3.832419</td>\n",
       "    </tr>\n",
       "    <tr>\n",
       "      <th>std</th>\n",
       "      <td>0.342500</td>\n",
       "      <td>59.432239</td>\n",
       "      <td>2.474901</td>\n",
       "      <td>1.077802</td>\n",
       "    </tr>\n",
       "    <tr>\n",
       "      <th>min</th>\n",
       "      <td>1.000000</td>\n",
       "      <td>70.000000</td>\n",
       "      <td>1.700000</td>\n",
       "      <td>1.320000</td>\n",
       "    </tr>\n",
       "    <tr>\n",
       "      <th>25%</th>\n",
       "      <td>2.000000</td>\n",
       "      <td>150.000000</td>\n",
       "      <td>5.800000</td>\n",
       "      <td>3.000000</td>\n",
       "    </tr>\n",
       "    <tr>\n",
       "      <th>50%</th>\n",
       "      <td>2.000000</td>\n",
       "      <td>170.000000</td>\n",
       "      <td>7.400000</td>\n",
       "      <td>3.800000</td>\n",
       "    </tr>\n",
       "    <tr>\n",
       "      <th>75%</th>\n",
       "      <td>2.000000</td>\n",
       "      <td>175.000000</td>\n",
       "      <td>8.800000</td>\n",
       "      <td>4.600000</td>\n",
       "    </tr>\n",
       "    <tr>\n",
       "      <th>max</th>\n",
       "      <td>5.000000</td>\n",
       "      <td>380.000000</td>\n",
       "      <td>29.500000</td>\n",
       "      <td>6.500000</td>\n",
       "    </tr>\n",
       "  </tbody>\n",
       "</table>\n",
       "</div>"
      ],
      "text/plain": [
       "            PROD_QTY       WEIGHT_g      TOT_SALES     UNIT_PRICE\n",
       "count  246739.000000  246739.000000  246739.000000  246739.000000\n",
       "mean        1.906456     175.583523       7.316118       3.832419\n",
       "std         0.342500      59.432239       2.474901       1.077802\n",
       "min         1.000000      70.000000       1.700000       1.320000\n",
       "25%         2.000000     150.000000       5.800000       3.000000\n",
       "50%         2.000000     170.000000       7.400000       3.800000\n",
       "75%         2.000000     175.000000       8.800000       4.600000\n",
       "max         5.000000     380.000000      29.500000       6.500000"
      ]
     },
     "execution_count": 32,
     "metadata": {},
     "output_type": "execute_result"
    }
   ],
   "source": [
    "transaction[['PROD_QTY', 'WEIGHT_g', 'TOT_SALES', 'UNIT_PRICE']].describe()"
   ]
  },
  {
   "cell_type": "markdown",
   "id": "4fc1e2d9",
   "metadata": {},
   "source": [
    "## First Stage Data Analysis"
   ]
  },
  {
   "cell_type": "code",
   "execution_count": 33,
   "id": "67ca0ce4",
   "metadata": {},
   "outputs": [
    {
     "name": "stderr",
     "output_type": "stream",
     "text": [
      "C:\\Users\\Steven\\anaconda3\\lib\\site-packages\\ipykernel_launcher.py:3: DeprecationWarning: The default dtype for empty Series will be 'object' instead of 'float64' in a future version. Specify a dtype explicitly to silence this warning.\n",
      "  This is separate from the ipykernel package so we can avoid doing imports until\n"
     ]
    }
   ],
   "source": [
    "#For the convince, adding the missing date in to dataset\n",
    "\n",
    "transaction_group = transaction.append(Series(), ignore_index=True)\n",
    "transaction_group.iloc[-1,0] = pd.to_datetime('2018-12-25 00:00:00')"
   ]
  },
  {
   "cell_type": "code",
   "execution_count": 34,
   "id": "3b208adb",
   "metadata": {},
   "outputs": [
    {
     "data": {
      "text/plain": [
       "0        2018-10-17\n",
       "1        2019-05-14\n",
       "2        2019-05-20\n",
       "3        2018-08-17\n",
       "4        2018-08-18\n",
       "            ...    \n",
       "246735   2018-08-13\n",
       "246736   2018-11-06\n",
       "246737   2018-12-27\n",
       "246738   2018-09-22\n",
       "246739   2018-12-25\n",
       "Name: DATE, Length: 246740, dtype: datetime64[ns]"
      ]
     },
     "execution_count": 34,
     "metadata": {},
     "output_type": "execute_result"
    }
   ],
   "source": [
    "transaction_group[\"DATE\"]"
   ]
  },
  {
   "cell_type": "markdown",
   "id": "ac6dc064",
   "metadata": {},
   "source": [
    "### Transactions numbers during the year"
   ]
  },
  {
   "cell_type": "code",
   "execution_count": 35,
   "id": "cd913338",
   "metadata": {},
   "outputs": [
    {
     "data": {
      "text/plain": [
       "[<matplotlib.lines.Line2D at 0x1ed44d05088>]"
      ]
     },
     "execution_count": 35,
     "metadata": {},
     "output_type": "execute_result"
    },
    {
     "data": {
      "image/png": "[encoded data removed]",
      "text/plain": [
       "<Figure size 432x288 with 1 Axes>"
      ]
     },
     "metadata": {
      "needs_background": "light"
     },
     "output_type": "display_data"
    }
   ],
   "source": [
    "#Transactions numbers during the year\n",
    "plt.plot(ALL_TIME[0],transaction_group.groupby('DATE')['DATE'].count())"
   ]
  },
  {
   "cell_type": "markdown",
   "id": "109bc598",
   "metadata": {},
   "source": [
    "### Total sales in $ during the year"
   ]
  },
  {
   "cell_type": "code",
   "execution_count": 36,
   "id": "0f769fb6",
   "metadata": {},
   "outputs": [
    {
     "data": {
      "text/plain": [
       "[<matplotlib.lines.Line2D at 0x1ed44dc9e88>]"
      ]
     },
     "execution_count": 36,
     "metadata": {},
     "output_type": "execute_result"
    },
    {
     "data": {
      "image/png": "[encoded data removed]",
      "text/plain": [
       "<Figure size 432x288 with 1 Axes>"
      ]
     },
     "metadata": {
      "needs_background": "light"
     },
     "output_type": "display_data"
    }
   ],
   "source": [
    "#Total sales in $ during the year\n",
    "plt.plot(ALL_TIME[0],transaction_group.groupby('DATE')['TOT_SALES'].sum())"
   ]
  },
  {
   "cell_type": "code",
   "execution_count": 37,
   "id": "82a81e90",
   "metadata": {},
   "outputs": [
    {
     "data": {
      "text/plain": [
       "DATE\n",
       "2018-12-24    6410.9\n",
       "2018-12-23    6372.1\n",
       "2018-12-19    6164.7\n",
       "2018-12-22    6079.8\n",
       "2018-12-20    5942.8\n",
       "2018-12-21    5788.3\n",
       "2018-12-18    5762.2\n",
       "2019-06-07    5604.9\n",
       "2018-09-06    5508.6\n",
       "2019-06-14    5466.4\n",
       "Name: TOT_SALES, dtype: float64"
      ]
     },
     "execution_count": 37,
     "metadata": {},
     "output_type": "execute_result"
    }
   ],
   "source": [
    "#The 10 most $ sales days\n",
    "transaction_group.groupby('DATE')['TOT_SALES'].sum().sort_values(ascending=False).head(10)"
   ]
  },
  {
   "cell_type": "code",
   "execution_count": 38,
   "id": "6335cfab",
   "metadata": {},
   "outputs": [
    {
     "data": {
      "text/plain": [
       "DATE\n",
       "2018-12-25       0.00\n",
       "2019-05-18    3705.70\n",
       "2019-05-15    3815.80\n",
       "2018-08-20    3941.00\n",
       "2019-05-17    3973.25\n",
       "2019-05-16    4001.05\n",
       "2018-08-18    4016.70\n",
       "2019-05-14    4023.55\n",
       "2018-08-17    4036.55\n",
       "2018-08-19    4058.15\n",
       "Name: TOT_SALES, dtype: float64"
      ]
     },
     "execution_count": 38,
     "metadata": {},
     "output_type": "execute_result"
    }
   ],
   "source": [
    "#The 10 least $ sales days\n",
    "transaction_group.groupby('DATE')['TOT_SALES'].sum().sort_values().head(10)"
   ]
  },
  {
   "cell_type": "markdown",
   "id": "983ad024",
   "metadata": {},
   "source": [
    "### Transaction numbers by size"
   ]
  },
  {
   "cell_type": "code",
   "execution_count": 39,
   "id": "30ef982b",
   "metadata": {},
   "outputs": [
    {
     "data": {
      "text/plain": [
       "<BarContainer object of 20 artists>"
      ]
     },
     "execution_count": 39,
     "metadata": {},
     "output_type": "execute_result"
    },
    {
     "data": {
      "image/png": "[encoded data removed]",
      "text/plain": [
       "<Figure size 432x288 with 1 Axes>"
      ]
     },
     "metadata": {
      "needs_background": "light"
     },
     "output_type": "display_data"
    }
   ],
   "source": [
    "plt.bar(transaction.groupby('WEIGHT_g').count().index, transaction.groupby('WEIGHT_g')['WEIGHT_g'].count())"
   ]
  },
  {
   "cell_type": "code",
   "execution_count": 40,
   "id": "7b3c89b8",
   "metadata": {},
   "outputs": [
    {
     "data": {
      "text/plain": [
       "WEIGHT_g\n",
       "70      1507\n",
       "90      3008\n",
       "110    22387\n",
       "125     1454\n",
       "134    25102\n",
       "135     3257\n",
       "150    40203\n",
       "160     2970\n",
       "165    15297\n",
       "170    19983\n",
       "175    66389\n",
       "180     1468\n",
       "190     2995\n",
       "200     4473\n",
       "210     6272\n",
       "220     1564\n",
       "250     3169\n",
       "270     6285\n",
       "330    12540\n",
       "380     6416\n",
       "Name: WEIGHT_g, dtype: int64"
      ]
     },
     "execution_count": 40,
     "metadata": {},
     "output_type": "execute_result"
    }
   ],
   "source": [
    "transaction.groupby('WEIGHT_g')['WEIGHT_g'].count()"
   ]
  },
  {
   "cell_type": "markdown",
   "id": "5a5c07f7",
   "metadata": {},
   "source": [
    "### The most popular brand"
   ]
  },
  {
   "cell_type": "code",
   "execution_count": 41,
   "id": "bf715f11",
   "metadata": {},
   "outputs": [
    {
     "name": "stdout",
     "output_type": "stream",
     "text": [
      "Kettle        41288\n",
      "Smiths        27389\n",
      "Pringles      25102\n",
      "Doritos       22041\n",
      "Red           16321\n",
      "Thins         14075\n",
      "Infuzions     11057\n",
      "WW            10320\n",
      "Cobs           9693\n",
      "Tostitos       9471\n",
      "Twisties       9454\n",
      "Natural        7469\n",
      "Tyrrells       6442\n",
      "Grain          6272\n",
      "Cheezels       4603\n",
      "CCs            4551\n",
      "Dorito         3183\n",
      "Infzns         3144\n",
      "Smith          2963\n",
      "Cheetos        2927\n",
      "Snbts          1576\n",
      "Burger         1564\n",
      "Woolworths     1516\n",
      "GrnWves        1468\n",
      "Sunbites       1432\n",
      "French         1418\n",
      "Name: BRAND_NAME, dtype: int64\n"
     ]
    },
    {
     "data": {
      "image/png": "[encoded data removed]",
      "text/plain": [
       "<Figure size 432x288 with 1 Axes>"
      ]
     },
     "metadata": {
      "needs_background": "light"
     },
     "output_type": "display_data"
    }
   ],
   "source": [
    "print(transaction['BRAND_NAME'].value_counts())\n",
    "#Bar chart of the transaction numbers of each brand\n",
    "transaction['BRAND_NAME'].value_counts().plot.bar()\n",
    "plt.show()"
   ]
  },
  {
   "cell_type": "markdown",
   "id": "1246e310",
   "metadata": {},
   "source": [
    "### Total sales by different group of people"
   ]
  },
  {
   "cell_type": "code",
   "execution_count": 42,
   "id": "29e6de54",
   "metadata": {},
   "outputs": [
    {
     "name": "stdout",
     "output_type": "stream",
     "text": [
      "Total number for all is $1,805,171.70\n"
     ]
    }
   ],
   "source": [
    "# Total for all\n",
    "AVE_NUM = comb_table.groupby(['LYLTY_CARD_NBR']).sum()['TOT_SALES'].sum()\n",
    "print(f'Total number for all is ${AVE_NUM:,.2f}')"
   ]
  },
  {
   "cell_type": "code",
   "execution_count": 43,
   "id": "2b6d38d1",
   "metadata": {},
   "outputs": [
    {
     "data": {
      "text/html": [
       "<div>\n",
       "<style scoped>\n",
       "    .dataframe tbody tr th:only-of-type {\n",
       "        vertical-align: middle;\n",
       "    }\n",
       "\n",
       "    .dataframe tbody tr th {\n",
       "        vertical-align: top;\n",
       "    }\n",
       "\n",
       "    .dataframe thead tr th {\n",
       "        text-align: left;\n",
       "    }\n",
       "\n",
       "    .dataframe thead tr:last-of-type th {\n",
       "        text-align: right;\n",
       "    }\n",
       "</style>\n",
       "<table border=\"1\" class=\"dataframe\">\n",
       "  <thead>\n",
       "    <tr>\n",
       "      <th></th>\n",
       "      <th>sum</th>\n",
       "    </tr>\n",
       "    <tr>\n",
       "      <th></th>\n",
       "      <th>TOT_SALES</th>\n",
       "    </tr>\n",
       "    <tr>\n",
       "      <th>LIFESTAGE</th>\n",
       "      <th></th>\n",
       "    </tr>\n",
       "  </thead>\n",
       "  <tbody>\n",
       "    <tr>\n",
       "      <th>OLDER SINGLES/COUPLES</th>\n",
       "      <td>376013.65</td>\n",
       "    </tr>\n",
       "    <tr>\n",
       "      <th>RETIREES</th>\n",
       "      <td>342381.90</td>\n",
       "    </tr>\n",
       "    <tr>\n",
       "      <th>OLDER FAMILIES</th>\n",
       "      <td>328519.90</td>\n",
       "    </tr>\n",
       "    <tr>\n",
       "      <th>YOUNG FAMILIES</th>\n",
       "      <td>294627.90</td>\n",
       "    </tr>\n",
       "    <tr>\n",
       "      <th>YOUNG SINGLES/COUPLES</th>\n",
       "      <td>243756.60</td>\n",
       "    </tr>\n",
       "    <tr>\n",
       "      <th>MIDAGE SINGLES/COUPLES</th>\n",
       "      <td>172523.80</td>\n",
       "    </tr>\n",
       "    <tr>\n",
       "      <th>NEW FAMILIES</th>\n",
       "      <td>47347.95</td>\n",
       "    </tr>\n",
       "  </tbody>\n",
       "</table>\n",
       "</div>"
      ],
      "text/plain": [
       "                              sum\n",
       "                        TOT_SALES\n",
       "LIFESTAGE                        \n",
       "OLDER SINGLES/COUPLES   376013.65\n",
       "RETIREES                342381.90\n",
       "OLDER FAMILIES          328519.90\n",
       "YOUNG FAMILIES          294627.90\n",
       "YOUNG SINGLES/COUPLES   243756.60\n",
       "MIDAGE SINGLES/COUPLES  172523.80\n",
       "NEW FAMILIES             47347.95"
      ]
     },
     "execution_count": 43,
     "metadata": {},
     "output_type": "execute_result"
    }
   ],
   "source": [
    "pd.pivot_table(comb_table, index=['LIFESTAGE'], values=['TOT_SALES'], aggfunc=[np.sum])\\\n",
    "    .sort_values(('sum', 'TOT_SALES'), ascending=False)"
   ]
  },
  {
   "cell_type": "code",
   "execution_count": 44,
   "id": "f7841738",
   "metadata": {},
   "outputs": [
    {
     "data": {
      "text/html": [
       "<div>\n",
       "<style scoped>\n",
       "    .dataframe tbody tr th:only-of-type {\n",
       "        vertical-align: middle;\n",
       "    }\n",
       "\n",
       "    .dataframe tbody tr th {\n",
       "        vertical-align: top;\n",
       "    }\n",
       "\n",
       "    .dataframe thead tr th {\n",
       "        text-align: left;\n",
       "    }\n",
       "\n",
       "    .dataframe thead tr:last-of-type th {\n",
       "        text-align: right;\n",
       "    }\n",
       "</style>\n",
       "<table border=\"1\" class=\"dataframe\">\n",
       "  <thead>\n",
       "    <tr>\n",
       "      <th></th>\n",
       "      <th>sum</th>\n",
       "    </tr>\n",
       "    <tr>\n",
       "      <th></th>\n",
       "      <th>TOT_SALES</th>\n",
       "    </tr>\n",
       "    <tr>\n",
       "      <th>PREMIUM_CUSTOMER</th>\n",
       "      <th></th>\n",
       "    </tr>\n",
       "  </thead>\n",
       "  <tbody>\n",
       "    <tr>\n",
       "      <th>Mainstream</th>\n",
       "      <td>700865.40</td>\n",
       "    </tr>\n",
       "    <tr>\n",
       "      <th>Budget</th>\n",
       "      <td>631406.85</td>\n",
       "    </tr>\n",
       "    <tr>\n",
       "      <th>Premium</th>\n",
       "      <td>472899.45</td>\n",
       "    </tr>\n",
       "  </tbody>\n",
       "</table>\n",
       "</div>"
      ],
      "text/plain": [
       "                        sum\n",
       "                  TOT_SALES\n",
       "PREMIUM_CUSTOMER           \n",
       "Mainstream        700865.40\n",
       "Budget            631406.85\n",
       "Premium           472899.45"
      ]
     },
     "execution_count": 44,
     "metadata": {},
     "output_type": "execute_result"
    }
   ],
   "source": [
    "pd.pivot_table(comb_table, index=['PREMIUM_CUSTOMER'], values=['TOT_SALES'], aggfunc=[np.sum])\\\n",
    "    .sort_values(('sum', 'TOT_SALES'), ascending=False)"
   ]
  },
  {
   "cell_type": "code",
   "execution_count": 45,
   "id": "ebe65fbb",
   "metadata": {},
   "outputs": [
    {
     "data": {
      "text/html": [
       "<div>\n",
       "<style scoped>\n",
       "    .dataframe tbody tr th:only-of-type {\n",
       "        vertical-align: middle;\n",
       "    }\n",
       "\n",
       "    .dataframe tbody tr th {\n",
       "        vertical-align: top;\n",
       "    }\n",
       "\n",
       "    .dataframe thead tr th {\n",
       "        text-align: left;\n",
       "    }\n",
       "\n",
       "    .dataframe thead tr:last-of-type th {\n",
       "        text-align: right;\n",
       "    }\n",
       "</style>\n",
       "<table border=\"1\" class=\"dataframe\">\n",
       "  <thead>\n",
       "    <tr>\n",
       "      <th></th>\n",
       "      <th></th>\n",
       "      <th>sum</th>\n",
       "    </tr>\n",
       "    <tr>\n",
       "      <th></th>\n",
       "      <th></th>\n",
       "      <th>TOT_SALES</th>\n",
       "    </tr>\n",
       "    <tr>\n",
       "      <th>LIFESTAGE</th>\n",
       "      <th>PREMIUM_CUSTOMER</th>\n",
       "      <th></th>\n",
       "    </tr>\n",
       "  </thead>\n",
       "  <tbody>\n",
       "    <tr>\n",
       "      <th rowspan=\"3\" valign=\"top\">MIDAGE SINGLES/COUPLES</th>\n",
       "      <th>Budget</th>\n",
       "      <td>33345.70</td>\n",
       "    </tr>\n",
       "    <tr>\n",
       "      <th>Mainstream</th>\n",
       "      <td>84734.25</td>\n",
       "    </tr>\n",
       "    <tr>\n",
       "      <th>Premium</th>\n",
       "      <td>54443.85</td>\n",
       "    </tr>\n",
       "    <tr>\n",
       "      <th rowspan=\"3\" valign=\"top\">NEW FAMILIES</th>\n",
       "      <th>Budget</th>\n",
       "      <td>20607.45</td>\n",
       "    </tr>\n",
       "    <tr>\n",
       "      <th>Mainstream</th>\n",
       "      <td>15979.70</td>\n",
       "    </tr>\n",
       "    <tr>\n",
       "      <th>Premium</th>\n",
       "      <td>10760.80</td>\n",
       "    </tr>\n",
       "    <tr>\n",
       "      <th rowspan=\"3\" valign=\"top\">OLDER FAMILIES</th>\n",
       "      <th>Budget</th>\n",
       "      <td>156863.75</td>\n",
       "    </tr>\n",
       "    <tr>\n",
       "      <th>Mainstream</th>\n",
       "      <td>96413.55</td>\n",
       "    </tr>\n",
       "    <tr>\n",
       "      <th>Premium</th>\n",
       "      <td>75242.60</td>\n",
       "    </tr>\n",
       "    <tr>\n",
       "      <th rowspan=\"3\" valign=\"top\">OLDER SINGLES/COUPLES</th>\n",
       "      <th>Budget</th>\n",
       "      <td>127833.60</td>\n",
       "    </tr>\n",
       "    <tr>\n",
       "      <th>Mainstream</th>\n",
       "      <td>124648.50</td>\n",
       "    </tr>\n",
       "    <tr>\n",
       "      <th>Premium</th>\n",
       "      <td>123531.55</td>\n",
       "    </tr>\n",
       "    <tr>\n",
       "      <th rowspan=\"3\" valign=\"top\">RETIREES</th>\n",
       "      <th>Budget</th>\n",
       "      <td>105916.30</td>\n",
       "    </tr>\n",
       "    <tr>\n",
       "      <th>Mainstream</th>\n",
       "      <td>145168.95</td>\n",
       "    </tr>\n",
       "    <tr>\n",
       "      <th>Premium</th>\n",
       "      <td>91296.65</td>\n",
       "    </tr>\n",
       "    <tr>\n",
       "      <th rowspan=\"3\" valign=\"top\">YOUNG FAMILIES</th>\n",
       "      <th>Budget</th>\n",
       "      <td>129717.95</td>\n",
       "    </tr>\n",
       "    <tr>\n",
       "      <th>Mainstream</th>\n",
       "      <td>86338.25</td>\n",
       "    </tr>\n",
       "    <tr>\n",
       "      <th>Premium</th>\n",
       "      <td>78571.70</td>\n",
       "    </tr>\n",
       "    <tr>\n",
       "      <th rowspan=\"3\" valign=\"top\">YOUNG SINGLES/COUPLES</th>\n",
       "      <th>Budget</th>\n",
       "      <td>57122.10</td>\n",
       "    </tr>\n",
       "    <tr>\n",
       "      <th>Mainstream</th>\n",
       "      <td>147582.20</td>\n",
       "    </tr>\n",
       "    <tr>\n",
       "      <th>Premium</th>\n",
       "      <td>39052.30</td>\n",
       "    </tr>\n",
       "  </tbody>\n",
       "</table>\n",
       "</div>"
      ],
      "text/plain": [
       "                                               sum\n",
       "                                         TOT_SALES\n",
       "LIFESTAGE              PREMIUM_CUSTOMER           \n",
       "MIDAGE SINGLES/COUPLES Budget             33345.70\n",
       "                       Mainstream         84734.25\n",
       "                       Premium            54443.85\n",
       "NEW FAMILIES           Budget             20607.45\n",
       "                       Mainstream         15979.70\n",
       "                       Premium            10760.80\n",
       "OLDER FAMILIES         Budget            156863.75\n",
       "                       Mainstream         96413.55\n",
       "                       Premium            75242.60\n",
       "OLDER SINGLES/COUPLES  Budget            127833.60\n",
       "                       Mainstream        124648.50\n",
       "                       Premium           123531.55\n",
       "RETIREES               Budget            105916.30\n",
       "                       Mainstream        145168.95\n",
       "                       Premium            91296.65\n",
       "YOUNG FAMILIES         Budget            129717.95\n",
       "                       Mainstream         86338.25\n",
       "                       Premium            78571.70\n",
       "YOUNG SINGLES/COUPLES  Budget             57122.10\n",
       "                       Mainstream        147582.20\n",
       "                       Premium            39052.30"
      ]
     },
     "execution_count": 45,
     "metadata": {},
     "output_type": "execute_result"
    }
   ],
   "source": [
    "pd.pivot_table(comb_table, index=['LIFESTAGE','PREMIUM_CUSTOMER'], values=['TOT_SALES'], aggfunc=[np.sum])"
   ]
  },
  {
   "cell_type": "markdown",
   "id": "5da72ce1",
   "metadata": {},
   "source": [
    "### Sales per family per year by different group of people"
   ]
  },
  {
   "cell_type": "code",
   "execution_count": 46,
   "id": "3fb0d6af",
   "metadata": {},
   "outputs": [
    {
     "name": "stdout",
     "output_type": "stream",
     "text": [
      "Average number for all is $25.32\n"
     ]
    }
   ],
   "source": [
    "# Average for all\n",
    "AVE_NUM = comb_table.groupby(['LYLTY_CARD_NBR']).sum()['TOT_SALES'].mean()\n",
    "print(f'Average number for all is ${AVE_NUM:.2f}')"
   ]
  },
  {
   "cell_type": "code",
   "execution_count": 47,
   "id": "2e3c3ae9",
   "metadata": {},
   "outputs": [
    {
     "data": {
      "text/html": [
       "<div>\n",
       "<style scoped>\n",
       "    .dataframe tbody tr th:only-of-type {\n",
       "        vertical-align: middle;\n",
       "    }\n",
       "\n",
       "    .dataframe tbody tr th {\n",
       "        vertical-align: top;\n",
       "    }\n",
       "\n",
       "    .dataframe thead tr th {\n",
       "        text-align: left;\n",
       "    }\n",
       "\n",
       "    .dataframe thead tr:last-of-type th {\n",
       "        text-align: right;\n",
       "    }\n",
       "</style>\n",
       "<table border=\"1\" class=\"dataframe\">\n",
       "  <thead>\n",
       "    <tr>\n",
       "      <th></th>\n",
       "      <th>mean</th>\n",
       "    </tr>\n",
       "    <tr>\n",
       "      <th></th>\n",
       "      <th>TOT_SALES</th>\n",
       "    </tr>\n",
       "    <tr>\n",
       "      <th>LIFESTAGE</th>\n",
       "      <th></th>\n",
       "    </tr>\n",
       "  </thead>\n",
       "  <tbody>\n",
       "    <tr>\n",
       "      <th>OLDER FAMILIES</th>\n",
       "      <td>34.114216</td>\n",
       "    </tr>\n",
       "    <tr>\n",
       "      <th>YOUNG FAMILIES</th>\n",
       "      <td>32.606009</td>\n",
       "    </tr>\n",
       "    <tr>\n",
       "      <th>OLDER SINGLES/COUPLES</th>\n",
       "      <td>26.132021</td>\n",
       "    </tr>\n",
       "    <tr>\n",
       "      <th>MIDAGE SINGLES/COUPLES</th>\n",
       "      <td>24.159613</td>\n",
       "    </tr>\n",
       "    <tr>\n",
       "      <th>RETIREES</th>\n",
       "      <td>23.523318</td>\n",
       "    </tr>\n",
       "    <tr>\n",
       "      <th>NEW FAMILIES</th>\n",
       "      <td>18.999980</td>\n",
       "    </tr>\n",
       "    <tr>\n",
       "      <th>YOUNG SINGLES/COUPLES</th>\n",
       "      <td>17.356636</td>\n",
       "    </tr>\n",
       "  </tbody>\n",
       "</table>\n",
       "</div>"
      ],
      "text/plain": [
       "                             mean\n",
       "                        TOT_SALES\n",
       "LIFESTAGE                        \n",
       "OLDER FAMILIES          34.114216\n",
       "YOUNG FAMILIES          32.606009\n",
       "OLDER SINGLES/COUPLES   26.132021\n",
       "MIDAGE SINGLES/COUPLES  24.159613\n",
       "RETIREES                23.523318\n",
       "NEW FAMILIES            18.999980\n",
       "YOUNG SINGLES/COUPLES   17.356636"
      ]
     },
     "execution_count": 47,
     "metadata": {},
     "output_type": "execute_result"
    }
   ],
   "source": [
    "pd.pivot_table(comb_table.groupby(['LYLTY_CARD_NBR', 'LIFESTAGE']).sum(), index=['LIFESTAGE'], values=['TOT_SALES'], aggfunc=[np.mean])\\\n",
    "    .sort_values(('mean', 'TOT_SALES'), ascending=False)"
   ]
  },
  {
   "cell_type": "code",
   "execution_count": 48,
   "id": "bdb09e6e",
   "metadata": {},
   "outputs": [
    {
     "data": {
      "text/html": [
       "<div>\n",
       "<style scoped>\n",
       "    .dataframe tbody tr th:only-of-type {\n",
       "        vertical-align: middle;\n",
       "    }\n",
       "\n",
       "    .dataframe tbody tr th {\n",
       "        vertical-align: top;\n",
       "    }\n",
       "\n",
       "    .dataframe thead tr th {\n",
       "        text-align: left;\n",
       "    }\n",
       "\n",
       "    .dataframe thead tr:last-of-type th {\n",
       "        text-align: right;\n",
       "    }\n",
       "</style>\n",
       "<table border=\"1\" class=\"dataframe\">\n",
       "  <thead>\n",
       "    <tr>\n",
       "      <th></th>\n",
       "      <th>mean</th>\n",
       "    </tr>\n",
       "    <tr>\n",
       "      <th></th>\n",
       "      <th>TOT_SALES</th>\n",
       "    </tr>\n",
       "    <tr>\n",
       "      <th>PREMIUM_CUSTOMER</th>\n",
       "      <th></th>\n",
       "    </tr>\n",
       "  </thead>\n",
       "  <tbody>\n",
       "    <tr>\n",
       "      <th>Budget</th>\n",
       "      <td>26.302043</td>\n",
       "    </tr>\n",
       "    <tr>\n",
       "      <th>Premium</th>\n",
       "      <td>25.497355</td>\n",
       "    </tr>\n",
       "    <tr>\n",
       "      <th>Mainstream</th>\n",
       "      <td>24.391501</td>\n",
       "    </tr>\n",
       "  </tbody>\n",
       "</table>\n",
       "</div>"
      ],
      "text/plain": [
       "                       mean\n",
       "                  TOT_SALES\n",
       "PREMIUM_CUSTOMER           \n",
       "Budget            26.302043\n",
       "Premium           25.497355\n",
       "Mainstream        24.391501"
      ]
     },
     "execution_count": 48,
     "metadata": {},
     "output_type": "execute_result"
    }
   ],
   "source": [
    "pd.pivot_table(comb_table.groupby(['LYLTY_CARD_NBR', 'PREMIUM_CUSTOMER']).sum(), index=['PREMIUM_CUSTOMER'], values=['TOT_SALES'], aggfunc=[np.mean])\\\n",
    "    .sort_values(('mean', 'TOT_SALES'), ascending=False)"
   ]
  },
  {
   "cell_type": "code",
   "execution_count": 49,
   "id": "b957b814",
   "metadata": {},
   "outputs": [
    {
     "data": {
      "text/html": [
       "<div>\n",
       "<style scoped>\n",
       "    .dataframe tbody tr th:only-of-type {\n",
       "        vertical-align: middle;\n",
       "    }\n",
       "\n",
       "    .dataframe tbody tr th {\n",
       "        vertical-align: top;\n",
       "    }\n",
       "\n",
       "    .dataframe thead tr th {\n",
       "        text-align: left;\n",
       "    }\n",
       "\n",
       "    .dataframe thead tr:last-of-type th {\n",
       "        text-align: right;\n",
       "    }\n",
       "</style>\n",
       "<table border=\"1\" class=\"dataframe\">\n",
       "  <thead>\n",
       "    <tr>\n",
       "      <th></th>\n",
       "      <th></th>\n",
       "      <th>mean</th>\n",
       "    </tr>\n",
       "    <tr>\n",
       "      <th></th>\n",
       "      <th></th>\n",
       "      <th>TOT_SALES</th>\n",
       "    </tr>\n",
       "    <tr>\n",
       "      <th>LIFESTAGE</th>\n",
       "      <th>PREMIUM_CUSTOMER</th>\n",
       "      <th></th>\n",
       "    </tr>\n",
       "  </thead>\n",
       "  <tbody>\n",
       "    <tr>\n",
       "      <th rowspan=\"3\" valign=\"top\">OLDER FAMILIES</th>\n",
       "      <th>Mainstream</th>\n",
       "      <td>34.581618</td>\n",
       "    </tr>\n",
       "    <tr>\n",
       "      <th>Budget</th>\n",
       "      <td>34.019464</td>\n",
       "    </tr>\n",
       "    <tr>\n",
       "      <th>Premium</th>\n",
       "      <td>33.725952</td>\n",
       "    </tr>\n",
       "    <tr>\n",
       "      <th rowspan=\"3\" valign=\"top\">YOUNG FAMILIES</th>\n",
       "      <th>Budget</th>\n",
       "      <td>32.815065</td>\n",
       "    </tr>\n",
       "    <tr>\n",
       "      <th>Premium</th>\n",
       "      <td>32.765513</td>\n",
       "    </tr>\n",
       "    <tr>\n",
       "      <th>Mainstream</th>\n",
       "      <td>32.155773</td>\n",
       "    </tr>\n",
       "    <tr>\n",
       "      <th rowspan=\"2\" valign=\"top\">OLDER SINGLES/COUPLES</th>\n",
       "      <th>Premium</th>\n",
       "      <td>26.384355</td>\n",
       "    </tr>\n",
       "    <tr>\n",
       "      <th>Budget</th>\n",
       "      <td>26.362879</td>\n",
       "    </tr>\n",
       "    <tr>\n",
       "      <th>MIDAGE SINGLES/COUPLES</th>\n",
       "      <th>Mainstream</th>\n",
       "      <td>25.692617</td>\n",
       "    </tr>\n",
       "    <tr>\n",
       "      <th>OLDER SINGLES/COUPLES</th>\n",
       "      <th>Mainstream</th>\n",
       "      <td>25.658399</td>\n",
       "    </tr>\n",
       "    <tr>\n",
       "      <th rowspan=\"2\" valign=\"top\">RETIREES</th>\n",
       "      <th>Budget</th>\n",
       "      <td>24.154230</td>\n",
       "    </tr>\n",
       "    <tr>\n",
       "      <th>Premium</th>\n",
       "      <td>23.949803</td>\n",
       "    </tr>\n",
       "    <tr>\n",
       "      <th>MIDAGE SINGLES/COUPLES</th>\n",
       "      <th>Premium</th>\n",
       "      <td>22.981786</td>\n",
       "    </tr>\n",
       "    <tr>\n",
       "      <th>RETIREES</th>\n",
       "      <th>Mainstream</th>\n",
       "      <td>22.832487</td>\n",
       "    </tr>\n",
       "    <tr>\n",
       "      <th>MIDAGE SINGLES/COUPLES</th>\n",
       "      <th>Budget</th>\n",
       "      <td>22.622592</td>\n",
       "    </tr>\n",
       "    <tr>\n",
       "      <th rowspan=\"3\" valign=\"top\">NEW FAMILIES</th>\n",
       "      <th>Mainstream</th>\n",
       "      <td>19.252651</td>\n",
       "    </tr>\n",
       "    <tr>\n",
       "      <th>Budget</th>\n",
       "      <td>18.958096</td>\n",
       "    </tr>\n",
       "    <tr>\n",
       "      <th>Premium</th>\n",
       "      <td>18.714435</td>\n",
       "    </tr>\n",
       "    <tr>\n",
       "      <th rowspan=\"3\" valign=\"top\">YOUNG SINGLES/COUPLES</th>\n",
       "      <th>Mainstream</th>\n",
       "      <td>18.641177</td>\n",
       "    </tr>\n",
       "    <tr>\n",
       "      <th>Premium</th>\n",
       "      <td>15.746895</td>\n",
       "    </tr>\n",
       "    <tr>\n",
       "      <th>Budget</th>\n",
       "      <td>15.662764</td>\n",
       "    </tr>\n",
       "  </tbody>\n",
       "</table>\n",
       "</div>"
      ],
      "text/plain": [
       "                                              mean\n",
       "                                         TOT_SALES\n",
       "LIFESTAGE              PREMIUM_CUSTOMER           \n",
       "OLDER FAMILIES         Mainstream        34.581618\n",
       "                       Budget            34.019464\n",
       "                       Premium           33.725952\n",
       "YOUNG FAMILIES         Budget            32.815065\n",
       "                       Premium           32.765513\n",
       "                       Mainstream        32.155773\n",
       "OLDER SINGLES/COUPLES  Premium           26.384355\n",
       "                       Budget            26.362879\n",
       "MIDAGE SINGLES/COUPLES Mainstream        25.692617\n",
       "OLDER SINGLES/COUPLES  Mainstream        25.658399\n",
       "RETIREES               Budget            24.154230\n",
       "                       Premium           23.949803\n",
       "MIDAGE SINGLES/COUPLES Premium           22.981786\n",
       "RETIREES               Mainstream        22.832487\n",
       "MIDAGE SINGLES/COUPLES Budget            22.622592\n",
       "NEW FAMILIES           Mainstream        19.252651\n",
       "                       Budget            18.958096\n",
       "                       Premium           18.714435\n",
       "YOUNG SINGLES/COUPLES  Mainstream        18.641177\n",
       "                       Premium           15.746895\n",
       "                       Budget            15.662764"
      ]
     },
     "execution_count": 49,
     "metadata": {},
     "output_type": "execute_result"
    }
   ],
   "source": [
    "pd.pivot_table(comb_table.groupby(['LYLTY_CARD_NBR', 'LIFESTAGE', 'PREMIUM_CUSTOMER']).sum(), index=['LIFESTAGE', 'PREMIUM_CUSTOMER'], values=['TOT_SALES'], aggfunc=[np.mean])\\\n",
    "    .sort_values(('mean', 'TOT_SALES'), ascending=False)"
   ]
  },
  {
   "cell_type": "markdown",
   "id": "775d737c",
   "metadata": {},
   "source": [
    "### Package size chosen by different family"
   ]
  },
  {
   "cell_type": "code",
   "execution_count": 50,
   "id": "157e3675",
   "metadata": {},
   "outputs": [
    {
     "data": {
      "text/html": [
       "<div>\n",
       "<style scoped>\n",
       "    .dataframe tbody tr th:only-of-type {\n",
       "        vertical-align: middle;\n",
       "    }\n",
       "\n",
       "    .dataframe tbody tr th {\n",
       "        vertical-align: top;\n",
       "    }\n",
       "\n",
       "    .dataframe thead tr th {\n",
       "        text-align: left;\n",
       "    }\n",
       "\n",
       "    .dataframe thead tr:last-of-type th {\n",
       "        text-align: right;\n",
       "    }\n",
       "</style>\n",
       "<table border=\"1\" class=\"dataframe\">\n",
       "  <thead>\n",
       "    <tr>\n",
       "      <th></th>\n",
       "      <th>mean</th>\n",
       "    </tr>\n",
       "    <tr>\n",
       "      <th></th>\n",
       "      <th>PROD_QTY</th>\n",
       "    </tr>\n",
       "    <tr>\n",
       "      <th>LIFESTAGE</th>\n",
       "      <th></th>\n",
       "    </tr>\n",
       "  </thead>\n",
       "  <tbody>\n",
       "    <tr>\n",
       "      <th>OLDER FAMILIES</th>\n",
       "      <td>1.946410</td>\n",
       "    </tr>\n",
       "    <tr>\n",
       "      <th>YOUNG FAMILIES</th>\n",
       "      <td>1.940460</td>\n",
       "    </tr>\n",
       "    <tr>\n",
       "      <th>OLDER SINGLES/COUPLES</th>\n",
       "      <td>1.913352</td>\n",
       "    </tr>\n",
       "    <tr>\n",
       "      <th>MIDAGE SINGLES/COUPLES</th>\n",
       "      <td>1.901701</td>\n",
       "    </tr>\n",
       "    <tr>\n",
       "      <th>RETIREES</th>\n",
       "      <td>1.892593</td>\n",
       "    </tr>\n",
       "    <tr>\n",
       "      <th>NEW FAMILIES</th>\n",
       "      <td>1.857781</td>\n",
       "    </tr>\n",
       "    <tr>\n",
       "      <th>YOUNG SINGLES/COUPLES</th>\n",
       "      <td>1.834025</td>\n",
       "    </tr>\n",
       "  </tbody>\n",
       "</table>\n",
       "</div>"
      ],
      "text/plain": [
       "                            mean\n",
       "                        PROD_QTY\n",
       "LIFESTAGE                       \n",
       "OLDER FAMILIES          1.946410\n",
       "YOUNG FAMILIES          1.940460\n",
       "OLDER SINGLES/COUPLES   1.913352\n",
       "MIDAGE SINGLES/COUPLES  1.901701\n",
       "RETIREES                1.892593\n",
       "NEW FAMILIES            1.857781\n",
       "YOUNG SINGLES/COUPLES   1.834025"
      ]
     },
     "execution_count": 50,
     "metadata": {},
     "output_type": "execute_result"
    }
   ],
   "source": [
    "pd.pivot_table(comb_table, index=['LIFESTAGE'], values=['PROD_QTY'], aggfunc=[np.mean])\\\n",
    "    .sort_values(('mean', 'PROD_QTY'), ascending=False)"
   ]
  },
  {
   "cell_type": "code",
   "execution_count": 51,
   "id": "8a8350bb",
   "metadata": {},
   "outputs": [
    {
     "data": {
      "text/html": [
       "<div>\n",
       "<style scoped>\n",
       "    .dataframe tbody tr th:only-of-type {\n",
       "        vertical-align: middle;\n",
       "    }\n",
       "\n",
       "    .dataframe tbody tr th {\n",
       "        vertical-align: top;\n",
       "    }\n",
       "\n",
       "    .dataframe thead tr th {\n",
       "        text-align: left;\n",
       "    }\n",
       "\n",
       "    .dataframe thead tr:last-of-type th {\n",
       "        text-align: right;\n",
       "    }\n",
       "</style>\n",
       "<table border=\"1\" class=\"dataframe\">\n",
       "  <thead>\n",
       "    <tr>\n",
       "      <th></th>\n",
       "      <th>mean</th>\n",
       "    </tr>\n",
       "    <tr>\n",
       "      <th></th>\n",
       "      <th>WEIGHT_g</th>\n",
       "    </tr>\n",
       "    <tr>\n",
       "      <th>PREMIUM_CUSTOMER</th>\n",
       "      <th></th>\n",
       "    </tr>\n",
       "  </thead>\n",
       "  <tbody>\n",
       "    <tr>\n",
       "      <th>Mainstream</th>\n",
       "      <td>175.975895</td>\n",
       "    </tr>\n",
       "    <tr>\n",
       "      <th>Premium</th>\n",
       "      <td>175.371084</td>\n",
       "    </tr>\n",
       "    <tr>\n",
       "      <th>Budget</th>\n",
       "      <td>175.312694</td>\n",
       "    </tr>\n",
       "  </tbody>\n",
       "</table>\n",
       "</div>"
      ],
      "text/plain": [
       "                        mean\n",
       "                    WEIGHT_g\n",
       "PREMIUM_CUSTOMER            \n",
       "Mainstream        175.975895\n",
       "Premium           175.371084\n",
       "Budget            175.312694"
      ]
     },
     "execution_count": 51,
     "metadata": {},
     "output_type": "execute_result"
    }
   ],
   "source": [
    "pd.pivot_table(comb_table, index=['PREMIUM_CUSTOMER'], values=['WEIGHT_g'], aggfunc=[np.mean])\\\n",
    "    .sort_values(('mean', 'WEIGHT_g'), ascending=False)"
   ]
  },
  {
   "cell_type": "code",
   "execution_count": 52,
   "id": "52579d64",
   "metadata": {},
   "outputs": [
    {
     "data": {
      "text/html": [
       "<div>\n",
       "<style scoped>\n",
       "    .dataframe tbody tr th:only-of-type {\n",
       "        vertical-align: middle;\n",
       "    }\n",
       "\n",
       "    .dataframe tbody tr th {\n",
       "        vertical-align: top;\n",
       "    }\n",
       "\n",
       "    .dataframe thead tr th {\n",
       "        text-align: left;\n",
       "    }\n",
       "\n",
       "    .dataframe thead tr:last-of-type th {\n",
       "        text-align: right;\n",
       "    }\n",
       "</style>\n",
       "<table border=\"1\" class=\"dataframe\">\n",
       "  <thead>\n",
       "    <tr>\n",
       "      <th></th>\n",
       "      <th></th>\n",
       "      <th>mean</th>\n",
       "    </tr>\n",
       "    <tr>\n",
       "      <th></th>\n",
       "      <th></th>\n",
       "      <th>WEIGHT_g</th>\n",
       "    </tr>\n",
       "    <tr>\n",
       "      <th>LIFESTAGE</th>\n",
       "      <th>PREMIUM_CUSTOMER</th>\n",
       "      <th></th>\n",
       "    </tr>\n",
       "  </thead>\n",
       "  <tbody>\n",
       "    <tr>\n",
       "      <th>YOUNG SINGLES/COUPLES</th>\n",
       "      <th>Mainstream</th>\n",
       "      <td>178.344249</td>\n",
       "    </tr>\n",
       "    <tr>\n",
       "      <th>MIDAGE SINGLES/COUPLES</th>\n",
       "      <th>Mainstream</th>\n",
       "      <td>177.898693</td>\n",
       "    </tr>\n",
       "    <tr>\n",
       "      <th>OLDER SINGLES/COUPLES</th>\n",
       "      <th>Premium</th>\n",
       "      <td>176.485657</td>\n",
       "    </tr>\n",
       "    <tr>\n",
       "      <th rowspan=\"2\" valign=\"top\">RETIREES</th>\n",
       "      <th>Budget</th>\n",
       "      <td>176.395641</td>\n",
       "    </tr>\n",
       "    <tr>\n",
       "      <th>Premium</th>\n",
       "      <td>176.368421</td>\n",
       "    </tr>\n",
       "    <tr>\n",
       "      <th>NEW FAMILIES</th>\n",
       "      <th>Mainstream</th>\n",
       "      <td>175.629748</td>\n",
       "    </tr>\n",
       "    <tr>\n",
       "      <th>OLDER FAMILIES</th>\n",
       "      <th>Budget</th>\n",
       "      <td>175.546342</td>\n",
       "    </tr>\n",
       "    <tr>\n",
       "      <th>YOUNG FAMILIES</th>\n",
       "      <th>Budget</th>\n",
       "      <td>175.459720</td>\n",
       "    </tr>\n",
       "    <tr>\n",
       "      <th>OLDER SINGLES/COUPLES</th>\n",
       "      <th>Budget</th>\n",
       "      <td>175.334673</td>\n",
       "    </tr>\n",
       "    <tr>\n",
       "      <th>NEW FAMILIES</th>\n",
       "      <th>Premium</th>\n",
       "      <td>175.245296</td>\n",
       "    </tr>\n",
       "    <tr>\n",
       "      <th>RETIREES</th>\n",
       "      <th>Mainstream</th>\n",
       "      <td>175.213671</td>\n",
       "    </tr>\n",
       "    <tr>\n",
       "      <th>OLDER FAMILIES</th>\n",
       "      <th>Mainstream</th>\n",
       "      <td>175.175666</td>\n",
       "    </tr>\n",
       "    <tr>\n",
       "      <th>OLDER SINGLES/COUPLES</th>\n",
       "      <th>Mainstream</th>\n",
       "      <td>174.812145</td>\n",
       "    </tr>\n",
       "    <tr>\n",
       "      <th>NEW FAMILIES</th>\n",
       "      <th>Budget</th>\n",
       "      <td>174.766643</td>\n",
       "    </tr>\n",
       "    <tr>\n",
       "      <th>YOUNG FAMILIES</th>\n",
       "      <th>Premium</th>\n",
       "      <td>174.659032</td>\n",
       "    </tr>\n",
       "    <tr>\n",
       "      <th>MIDAGE SINGLES/COUPLES</th>\n",
       "      <th>Premium</th>\n",
       "      <td>174.585391</td>\n",
       "    </tr>\n",
       "    <tr>\n",
       "      <th>OLDER FAMILIES</th>\n",
       "      <th>Premium</th>\n",
       "      <td>174.524752</td>\n",
       "    </tr>\n",
       "    <tr>\n",
       "      <th>YOUNG FAMILIES</th>\n",
       "      <th>Mainstream</th>\n",
       "      <td>174.202059</td>\n",
       "    </tr>\n",
       "    <tr>\n",
       "      <th>MIDAGE SINGLES/COUPLES</th>\n",
       "      <th>Budget</th>\n",
       "      <td>174.182690</td>\n",
       "    </tr>\n",
       "    <tr>\n",
       "      <th rowspan=\"2\" valign=\"top\">YOUNG SINGLES/COUPLES</th>\n",
       "      <th>Premium</th>\n",
       "      <td>174.002563</td>\n",
       "    </tr>\n",
       "    <tr>\n",
       "      <th>Budget</th>\n",
       "      <td>173.378981</td>\n",
       "    </tr>\n",
       "  </tbody>\n",
       "</table>\n",
       "</div>"
      ],
      "text/plain": [
       "                                               mean\n",
       "                                           WEIGHT_g\n",
       "LIFESTAGE              PREMIUM_CUSTOMER            \n",
       "YOUNG SINGLES/COUPLES  Mainstream        178.344249\n",
       "MIDAGE SINGLES/COUPLES Mainstream        177.898693\n",
       "OLDER SINGLES/COUPLES  Premium           176.485657\n",
       "RETIREES               Budget            176.395641\n",
       "                       Premium           176.368421\n",
       "NEW FAMILIES           Mainstream        175.629748\n",
       "OLDER FAMILIES         Budget            175.546342\n",
       "YOUNG FAMILIES         Budget            175.459720\n",
       "OLDER SINGLES/COUPLES  Budget            175.334673\n",
       "NEW FAMILIES           Premium           175.245296\n",
       "RETIREES               Mainstream        175.213671\n",
       "OLDER FAMILIES         Mainstream        175.175666\n",
       "OLDER SINGLES/COUPLES  Mainstream        174.812145\n",
       "NEW FAMILIES           Budget            174.766643\n",
       "YOUNG FAMILIES         Premium           174.659032\n",
       "MIDAGE SINGLES/COUPLES Premium           174.585391\n",
       "OLDER FAMILIES         Premium           174.524752\n",
       "YOUNG FAMILIES         Mainstream        174.202059\n",
       "MIDAGE SINGLES/COUPLES Budget            174.182690\n",
       "YOUNG SINGLES/COUPLES  Premium           174.002563\n",
       "                       Budget            173.378981"
      ]
     },
     "execution_count": 52,
     "metadata": {},
     "output_type": "execute_result"
    }
   ],
   "source": [
    "pd.pivot_table(comb_table, index=['LIFESTAGE', 'PREMIUM_CUSTOMER'], values=['WEIGHT_g'], aggfunc=[np.mean])\\\n",
    "    .sort_values(('mean', 'WEIGHT_g'), ascending=False)"
   ]
  },
  {
   "cell_type": "code",
   "execution_count": 53,
   "id": "9e24fbf9",
   "metadata": {},
   "outputs": [
    {
     "name": "stdout",
     "output_type": "stream",
     "text": [
      "LeveneResult(statistic=102.0638386928582, pvalue=5.907202592788736e-24)\n",
      "Ttest_indResult(statistic=6.578124637024347, pvalue=4.8907709584654706e-11)\n"
     ]
    }
   ],
   "source": [
    "# T-test for YOUNG SINGLES/COUPLES BUDGET and YOUNG SINGLES/COUPLES MAINSTREAM\n",
    "\n",
    "sample_A = comb_table[(comb_table['LIFESTAGE'] == 'YOUNG SINGLES/COUPLES') &\\\n",
    "           (comb_table['PREMIUM_CUSTOMER'] == 'Mainstream')]['WEIGHT_g']\n",
    "sample_B = comb_table[(comb_table['LIFESTAGE'] == 'YOUNG SINGLES/COUPLES') &\\\n",
    "           (comb_table['PREMIUM_CUSTOMER'] == 'Budget')]['WEIGHT_g']\n",
    "\n",
    "print(levene(sample_A, sample_B)) # small p-value suggests they do not have equal variances\n",
    "print(ttest_ind(sample_A, sample_B, equal_var=False)) # small p-value suggests they have significant difference"
   ]
  },
  {
   "cell_type": "markdown",
   "id": "50be9bee",
   "metadata": {},
   "source": [
    "### Unit per family"
   ]
  },
  {
   "cell_type": "code",
   "execution_count": 54,
   "id": "41b8f70b",
   "metadata": {},
   "outputs": [
    {
     "data": {
      "text/html": [
       "<div>\n",
       "<style scoped>\n",
       "    .dataframe tbody tr th:only-of-type {\n",
       "        vertical-align: middle;\n",
       "    }\n",
       "\n",
       "    .dataframe tbody tr th {\n",
       "        vertical-align: top;\n",
       "    }\n",
       "\n",
       "    .dataframe thead tr th {\n",
       "        text-align: left;\n",
       "    }\n",
       "\n",
       "    .dataframe thead tr:last-of-type th {\n",
       "        text-align: right;\n",
       "    }\n",
       "</style>\n",
       "<table border=\"1\" class=\"dataframe\">\n",
       "  <thead>\n",
       "    <tr>\n",
       "      <th></th>\n",
       "      <th>mean</th>\n",
       "    </tr>\n",
       "    <tr>\n",
       "      <th></th>\n",
       "      <th>PROD_QTY</th>\n",
       "    </tr>\n",
       "    <tr>\n",
       "      <th>LIFESTAGE</th>\n",
       "      <th></th>\n",
       "    </tr>\n",
       "  </thead>\n",
       "  <tbody>\n",
       "    <tr>\n",
       "      <th>OLDER FAMILIES</th>\n",
       "      <td>9.127310</td>\n",
       "    </tr>\n",
       "    <tr>\n",
       "      <th>YOUNG FAMILIES</th>\n",
       "      <td>8.695994</td>\n",
       "    </tr>\n",
       "    <tr>\n",
       "      <th>OLDER SINGLES/COUPLES</th>\n",
       "      <td>6.753979</td>\n",
       "    </tr>\n",
       "    <tr>\n",
       "      <th>MIDAGE SINGLES/COUPLES</th>\n",
       "      <td>6.231060</td>\n",
       "    </tr>\n",
       "    <tr>\n",
       "      <th>RETIREES</th>\n",
       "      <td>6.037444</td>\n",
       "    </tr>\n",
       "    <tr>\n",
       "      <th>NEW FAMILIES</th>\n",
       "      <td>4.843499</td>\n",
       "    </tr>\n",
       "    <tr>\n",
       "      <th>YOUNG SINGLES/COUPLES</th>\n",
       "      <td>4.436058</td>\n",
       "    </tr>\n",
       "  </tbody>\n",
       "</table>\n",
       "</div>"
      ],
      "text/plain": [
       "                            mean\n",
       "                        PROD_QTY\n",
       "LIFESTAGE                       \n",
       "OLDER FAMILIES          9.127310\n",
       "YOUNG FAMILIES          8.695994\n",
       "OLDER SINGLES/COUPLES   6.753979\n",
       "MIDAGE SINGLES/COUPLES  6.231060\n",
       "RETIREES                6.037444\n",
       "NEW FAMILIES            4.843499\n",
       "YOUNG SINGLES/COUPLES   4.436058"
      ]
     },
     "execution_count": 54,
     "metadata": {},
     "output_type": "execute_result"
    }
   ],
   "source": [
    "pd.pivot_table(comb_table.groupby(['LYLTY_CARD_NBR', 'LIFESTAGE', 'PREMIUM_CUSTOMER']).sum(), index=['LIFESTAGE'], values=['PROD_QTY'], aggfunc=[np.mean])\\\n",
    "    .sort_values(('mean', 'PROD_QTY'), ascending=False)"
   ]
  },
  {
   "cell_type": "code",
   "execution_count": 55,
   "id": "61550fac",
   "metadata": {},
   "outputs": [
    {
     "data": {
      "text/html": [
       "<div>\n",
       "<style scoped>\n",
       "    .dataframe tbody tr th:only-of-type {\n",
       "        vertical-align: middle;\n",
       "    }\n",
       "\n",
       "    .dataframe tbody tr th {\n",
       "        vertical-align: top;\n",
       "    }\n",
       "\n",
       "    .dataframe thead tr th {\n",
       "        text-align: left;\n",
       "    }\n",
       "\n",
       "    .dataframe thead tr:last-of-type th {\n",
       "        text-align: right;\n",
       "    }\n",
       "</style>\n",
       "<table border=\"1\" class=\"dataframe\">\n",
       "  <thead>\n",
       "    <tr>\n",
       "      <th></th>\n",
       "      <th>mean</th>\n",
       "    </tr>\n",
       "    <tr>\n",
       "      <th></th>\n",
       "      <th>PROD_QTY</th>\n",
       "    </tr>\n",
       "    <tr>\n",
       "      <th>PREMIUM_CUSTOMER</th>\n",
       "      <th></th>\n",
       "    </tr>\n",
       "  </thead>\n",
       "  <tbody>\n",
       "    <tr>\n",
       "      <th>Budget</th>\n",
       "      <td>6.905524</td>\n",
       "    </tr>\n",
       "    <tr>\n",
       "      <th>Premium</th>\n",
       "      <td>6.677252</td>\n",
       "    </tr>\n",
       "    <tr>\n",
       "      <th>Mainstream</th>\n",
       "      <td>6.291501</td>\n",
       "    </tr>\n",
       "  </tbody>\n",
       "</table>\n",
       "</div>"
      ],
      "text/plain": [
       "                      mean\n",
       "                  PROD_QTY\n",
       "PREMIUM_CUSTOMER          \n",
       "Budget            6.905524\n",
       "Premium           6.677252\n",
       "Mainstream        6.291501"
      ]
     },
     "execution_count": 55,
     "metadata": {},
     "output_type": "execute_result"
    }
   ],
   "source": [
    "pd.pivot_table(comb_table.groupby(['LYLTY_CARD_NBR', 'LIFESTAGE', 'PREMIUM_CUSTOMER']).sum(), index=['PREMIUM_CUSTOMER'], values=['PROD_QTY'], aggfunc=[np.mean])\\\n",
    "    .sort_values(('mean', 'PROD_QTY'), ascending=False)"
   ]
  },
  {
   "cell_type": "code",
   "execution_count": 56,
   "id": "ad2cde36",
   "metadata": {},
   "outputs": [
    {
     "data": {
      "text/html": [
       "<div>\n",
       "<style scoped>\n",
       "    .dataframe tbody tr th:only-of-type {\n",
       "        vertical-align: middle;\n",
       "    }\n",
       "\n",
       "    .dataframe tbody tr th {\n",
       "        vertical-align: top;\n",
       "    }\n",
       "\n",
       "    .dataframe thead tr th {\n",
       "        text-align: left;\n",
       "    }\n",
       "\n",
       "    .dataframe thead tr:last-of-type th {\n",
       "        text-align: right;\n",
       "    }\n",
       "</style>\n",
       "<table border=\"1\" class=\"dataframe\">\n",
       "  <thead>\n",
       "    <tr>\n",
       "      <th></th>\n",
       "      <th></th>\n",
       "      <th>mean</th>\n",
       "    </tr>\n",
       "    <tr>\n",
       "      <th></th>\n",
       "      <th></th>\n",
       "      <th>PROD_QTY</th>\n",
       "    </tr>\n",
       "    <tr>\n",
       "      <th>LIFESTAGE</th>\n",
       "      <th>PREMIUM_CUSTOMER</th>\n",
       "      <th></th>\n",
       "    </tr>\n",
       "  </thead>\n",
       "  <tbody>\n",
       "    <tr>\n",
       "      <th rowspan=\"3\" valign=\"top\">OLDER FAMILIES</th>\n",
       "      <th>Mainstream</th>\n",
       "      <td>9.255380</td>\n",
       "    </tr>\n",
       "    <tr>\n",
       "      <th>Budget</th>\n",
       "      <td>9.076773</td>\n",
       "    </tr>\n",
       "    <tr>\n",
       "      <th>Premium</th>\n",
       "      <td>9.071717</td>\n",
       "    </tr>\n",
       "    <tr>\n",
       "      <th rowspan=\"3\" valign=\"top\">YOUNG FAMILIES</th>\n",
       "      <th>Budget</th>\n",
       "      <td>8.722995</td>\n",
       "    </tr>\n",
       "    <tr>\n",
       "      <th>Premium</th>\n",
       "      <td>8.716013</td>\n",
       "    </tr>\n",
       "    <tr>\n",
       "      <th>Mainstream</th>\n",
       "      <td>8.638361</td>\n",
       "    </tr>\n",
       "    <tr>\n",
       "      <th rowspan=\"3\" valign=\"top\">OLDER SINGLES/COUPLES</th>\n",
       "      <th>Budget</th>\n",
       "      <td>6.781398</td>\n",
       "    </tr>\n",
       "    <tr>\n",
       "      <th>Premium</th>\n",
       "      <td>6.769116</td>\n",
       "    </tr>\n",
       "    <tr>\n",
       "      <th>Mainstream</th>\n",
       "      <td>6.712021</td>\n",
       "    </tr>\n",
       "    <tr>\n",
       "      <th>MIDAGE SINGLES/COUPLES</th>\n",
       "      <th>Mainstream</th>\n",
       "      <td>6.432080</td>\n",
       "    </tr>\n",
       "    <tr>\n",
       "      <th rowspan=\"2\" valign=\"top\">RETIREES</th>\n",
       "      <th>Budget</th>\n",
       "      <td>6.141847</td>\n",
       "    </tr>\n",
       "    <tr>\n",
       "      <th>Premium</th>\n",
       "      <td>6.103358</td>\n",
       "    </tr>\n",
       "    <tr>\n",
       "      <th rowspan=\"2\" valign=\"top\">MIDAGE SINGLES/COUPLES</th>\n",
       "      <th>Premium</th>\n",
       "      <td>6.078514</td>\n",
       "    </tr>\n",
       "    <tr>\n",
       "      <th>Budget</th>\n",
       "      <td>6.026459</td>\n",
       "    </tr>\n",
       "    <tr>\n",
       "      <th>RETIREES</th>\n",
       "      <th>Mainstream</th>\n",
       "      <td>5.925920</td>\n",
       "    </tr>\n",
       "    <tr>\n",
       "      <th rowspan=\"3\" valign=\"top\">NEW FAMILIES</th>\n",
       "      <th>Mainstream</th>\n",
       "      <td>4.891566</td>\n",
       "    </tr>\n",
       "    <tr>\n",
       "      <th>Budget</th>\n",
       "      <td>4.821527</td>\n",
       "    </tr>\n",
       "    <tr>\n",
       "      <th>Premium</th>\n",
       "      <td>4.815652</td>\n",
       "    </tr>\n",
       "    <tr>\n",
       "      <th rowspan=\"3\" valign=\"top\">YOUNG SINGLES/COUPLES</th>\n",
       "      <th>Mainstream</th>\n",
       "      <td>4.575597</td>\n",
       "    </tr>\n",
       "    <tr>\n",
       "      <th>Premium</th>\n",
       "      <td>4.264113</td>\n",
       "    </tr>\n",
       "    <tr>\n",
       "      <th>Budget</th>\n",
       "      <td>4.250069</td>\n",
       "    </tr>\n",
       "  </tbody>\n",
       "</table>\n",
       "</div>"
      ],
      "text/plain": [
       "                                             mean\n",
       "                                         PROD_QTY\n",
       "LIFESTAGE              PREMIUM_CUSTOMER          \n",
       "OLDER FAMILIES         Mainstream        9.255380\n",
       "                       Budget            9.076773\n",
       "                       Premium           9.071717\n",
       "YOUNG FAMILIES         Budget            8.722995\n",
       "                       Premium           8.716013\n",
       "                       Mainstream        8.638361\n",
       "OLDER SINGLES/COUPLES  Budget            6.781398\n",
       "                       Premium           6.769116\n",
       "                       Mainstream        6.712021\n",
       "MIDAGE SINGLES/COUPLES Mainstream        6.432080\n",
       "RETIREES               Budget            6.141847\n",
       "                       Premium           6.103358\n",
       "MIDAGE SINGLES/COUPLES Premium           6.078514\n",
       "                       Budget            6.026459\n",
       "RETIREES               Mainstream        5.925920\n",
       "NEW FAMILIES           Mainstream        4.891566\n",
       "                       Budget            4.821527\n",
       "                       Premium           4.815652\n",
       "YOUNG SINGLES/COUPLES  Mainstream        4.575597\n",
       "                       Premium           4.264113\n",
       "                       Budget            4.250069"
      ]
     },
     "execution_count": 56,
     "metadata": {},
     "output_type": "execute_result"
    }
   ],
   "source": [
    "pd.pivot_table(comb_table.groupby(['LYLTY_CARD_NBR', 'LIFESTAGE', 'PREMIUM_CUSTOMER']).sum(), index=['LIFESTAGE', 'PREMIUM_CUSTOMER'], values=['PROD_QTY'], aggfunc=[np.mean])\\\n",
    "    .sort_values(('mean', 'PROD_QTY'), ascending=False)"
   ]
  },
  {
   "cell_type": "markdown",
   "id": "df64e8cb",
   "metadata": {},
   "source": [
    "### Unit price per family"
   ]
  },
  {
   "cell_type": "code",
   "execution_count": 57,
   "id": "e000fedd",
   "metadata": {},
   "outputs": [
    {
     "data": {
      "text/html": [
       "<div>\n",
       "<style scoped>\n",
       "    .dataframe tbody tr th:only-of-type {\n",
       "        vertical-align: middle;\n",
       "    }\n",
       "\n",
       "    .dataframe tbody tr th {\n",
       "        vertical-align: top;\n",
       "    }\n",
       "\n",
       "    .dataframe thead tr th {\n",
       "        text-align: left;\n",
       "    }\n",
       "\n",
       "    .dataframe thead tr:last-of-type th {\n",
       "        text-align: right;\n",
       "    }\n",
       "</style>\n",
       "<table border=\"1\" class=\"dataframe\">\n",
       "  <thead>\n",
       "    <tr>\n",
       "      <th></th>\n",
       "      <th>mean</th>\n",
       "    </tr>\n",
       "    <tr>\n",
       "      <th></th>\n",
       "      <th>UNIT_PRICE</th>\n",
       "    </tr>\n",
       "    <tr>\n",
       "      <th>LIFESTAGE</th>\n",
       "      <th></th>\n",
       "    </tr>\n",
       "  </thead>\n",
       "  <tbody>\n",
       "    <tr>\n",
       "      <th>NEW FAMILIES</th>\n",
       "      <td>3.906726</td>\n",
       "    </tr>\n",
       "    <tr>\n",
       "      <th>YOUNG SINGLES/COUPLES</th>\n",
       "      <td>3.893653</td>\n",
       "    </tr>\n",
       "    <tr>\n",
       "      <th>RETIREES</th>\n",
       "      <td>3.889036</td>\n",
       "    </tr>\n",
       "    <tr>\n",
       "      <th>MIDAGE SINGLES/COUPLES</th>\n",
       "      <td>3.871211</td>\n",
       "    </tr>\n",
       "    <tr>\n",
       "      <th>OLDER SINGLES/COUPLES</th>\n",
       "      <td>3.863078</td>\n",
       "    </tr>\n",
       "    <tr>\n",
       "      <th>YOUNG FAMILIES</th>\n",
       "      <td>3.750432</td>\n",
       "    </tr>\n",
       "    <tr>\n",
       "      <th>OLDER FAMILIES</th>\n",
       "      <td>3.736389</td>\n",
       "    </tr>\n",
       "  </tbody>\n",
       "</table>\n",
       "</div>"
      ],
      "text/plain": [
       "                             mean\n",
       "                       UNIT_PRICE\n",
       "LIFESTAGE                        \n",
       "NEW FAMILIES             3.906726\n",
       "YOUNG SINGLES/COUPLES    3.893653\n",
       "RETIREES                 3.889036\n",
       "MIDAGE SINGLES/COUPLES   3.871211\n",
       "OLDER SINGLES/COUPLES    3.863078\n",
       "YOUNG FAMILIES           3.750432\n",
       "OLDER FAMILIES           3.736389"
      ]
     },
     "execution_count": 57,
     "metadata": {},
     "output_type": "execute_result"
    }
   ],
   "source": [
    "pd.pivot_table(comb_table, index=['LIFESTAGE'], values=['UNIT_PRICE'], aggfunc=[np.mean])\\\n",
    "    .sort_values(('mean', 'UNIT_PRICE'), ascending=False)"
   ]
  },
  {
   "cell_type": "code",
   "execution_count": 58,
   "id": "d0ec1eaf",
   "metadata": {},
   "outputs": [
    {
     "data": {
      "text/html": [
       "<div>\n",
       "<style scoped>\n",
       "    .dataframe tbody tr th:only-of-type {\n",
       "        vertical-align: middle;\n",
       "    }\n",
       "\n",
       "    .dataframe tbody tr th {\n",
       "        vertical-align: top;\n",
       "    }\n",
       "\n",
       "    .dataframe thead tr th {\n",
       "        text-align: left;\n",
       "    }\n",
       "\n",
       "    .dataframe thead tr:last-of-type th {\n",
       "        text-align: right;\n",
       "    }\n",
       "</style>\n",
       "<table border=\"1\" class=\"dataframe\">\n",
       "  <thead>\n",
       "    <tr>\n",
       "      <th></th>\n",
       "      <th>mean</th>\n",
       "    </tr>\n",
       "    <tr>\n",
       "      <th></th>\n",
       "      <th>UNIT_PRICE</th>\n",
       "    </tr>\n",
       "    <tr>\n",
       "      <th>PREMIUM_CUSTOMER</th>\n",
       "      <th></th>\n",
       "    </tr>\n",
       "  </thead>\n",
       "  <tbody>\n",
       "    <tr>\n",
       "      <th>Mainstream</th>\n",
       "      <td>3.873657</td>\n",
       "    </tr>\n",
       "    <tr>\n",
       "      <th>Premium</th>\n",
       "      <td>3.813071</td>\n",
       "    </tr>\n",
       "    <tr>\n",
       "      <th>Budget</th>\n",
       "      <td>3.801726</td>\n",
       "    </tr>\n",
       "  </tbody>\n",
       "</table>\n",
       "</div>"
      ],
      "text/plain": [
       "                       mean\n",
       "                 UNIT_PRICE\n",
       "PREMIUM_CUSTOMER           \n",
       "Mainstream         3.873657\n",
       "Premium            3.813071\n",
       "Budget             3.801726"
      ]
     },
     "execution_count": 58,
     "metadata": {},
     "output_type": "execute_result"
    }
   ],
   "source": [
    "pd.pivot_table(comb_table, index=['PREMIUM_CUSTOMER'], values=['UNIT_PRICE'], aggfunc=[np.mean])\\\n",
    "    .sort_values(('mean', 'UNIT_PRICE'), ascending=False)"
   ]
  },
  {
   "cell_type": "code",
   "execution_count": 59,
   "id": "68622791",
   "metadata": {},
   "outputs": [
    {
     "data": {
      "text/html": [
       "<div>\n",
       "<style scoped>\n",
       "    .dataframe tbody tr th:only-of-type {\n",
       "        vertical-align: middle;\n",
       "    }\n",
       "\n",
       "    .dataframe tbody tr th {\n",
       "        vertical-align: top;\n",
       "    }\n",
       "\n",
       "    .dataframe thead tr th {\n",
       "        text-align: left;\n",
       "    }\n",
       "\n",
       "    .dataframe thead tr:last-of-type th {\n",
       "        text-align: right;\n",
       "    }\n",
       "</style>\n",
       "<table border=\"1\" class=\"dataframe\">\n",
       "  <thead>\n",
       "    <tr>\n",
       "      <th></th>\n",
       "      <th></th>\n",
       "      <th>mean</th>\n",
       "    </tr>\n",
       "    <tr>\n",
       "      <th></th>\n",
       "      <th></th>\n",
       "      <th>UNIT_PRICE</th>\n",
       "    </tr>\n",
       "    <tr>\n",
       "      <th>LIFESTAGE</th>\n",
       "      <th>PREMIUM_CUSTOMER</th>\n",
       "      <th></th>\n",
       "    </tr>\n",
       "  </thead>\n",
       "  <tbody>\n",
       "    <tr>\n",
       "      <th>YOUNG SINGLES/COUPLES</th>\n",
       "      <th>Mainstream</th>\n",
       "      <td>4.065642</td>\n",
       "    </tr>\n",
       "    <tr>\n",
       "      <th>MIDAGE SINGLES/COUPLES</th>\n",
       "      <th>Mainstream</th>\n",
       "      <td>3.994241</td>\n",
       "    </tr>\n",
       "    <tr>\n",
       "      <th rowspan=\"2\" valign=\"top\">RETIREES</th>\n",
       "      <th>Budget</th>\n",
       "      <td>3.924404</td>\n",
       "    </tr>\n",
       "    <tr>\n",
       "      <th>Premium</th>\n",
       "      <td>3.920942</td>\n",
       "    </tr>\n",
       "    <tr>\n",
       "      <th rowspan=\"2\" valign=\"top\">NEW FAMILIES</th>\n",
       "      <th>Budget</th>\n",
       "      <td>3.917688</td>\n",
       "    </tr>\n",
       "    <tr>\n",
       "      <th>Mainstream</th>\n",
       "      <td>3.916133</td>\n",
       "    </tr>\n",
       "    <tr>\n",
       "      <th rowspan=\"2\" valign=\"top\">OLDER SINGLES/COUPLES</th>\n",
       "      <th>Premium</th>\n",
       "      <td>3.893236</td>\n",
       "    </tr>\n",
       "    <tr>\n",
       "      <th>Budget</th>\n",
       "      <td>3.882096</td>\n",
       "    </tr>\n",
       "    <tr>\n",
       "      <th>NEW FAMILIES</th>\n",
       "      <th>Premium</th>\n",
       "      <td>3.872110</td>\n",
       "    </tr>\n",
       "    <tr>\n",
       "      <th>RETIREES</th>\n",
       "      <th>Mainstream</th>\n",
       "      <td>3.844294</td>\n",
       "    </tr>\n",
       "    <tr>\n",
       "      <th>OLDER SINGLES/COUPLES</th>\n",
       "      <th>Mainstream</th>\n",
       "      <td>3.814665</td>\n",
       "    </tr>\n",
       "    <tr>\n",
       "      <th>MIDAGE SINGLES/COUPLES</th>\n",
       "      <th>Premium</th>\n",
       "      <td>3.770698</td>\n",
       "    </tr>\n",
       "    <tr>\n",
       "      <th rowspan=\"2\" valign=\"top\">YOUNG FAMILIES</th>\n",
       "      <th>Premium</th>\n",
       "      <td>3.762150</td>\n",
       "    </tr>\n",
       "    <tr>\n",
       "      <th>Budget</th>\n",
       "      <td>3.760737</td>\n",
       "    </tr>\n",
       "    <tr>\n",
       "      <th>OLDER FAMILIES</th>\n",
       "      <th>Budget</th>\n",
       "      <td>3.745340</td>\n",
       "    </tr>\n",
       "    <tr>\n",
       "      <th>MIDAGE SINGLES/COUPLES</th>\n",
       "      <th>Budget</th>\n",
       "      <td>3.743328</td>\n",
       "    </tr>\n",
       "    <tr>\n",
       "      <th>OLDER FAMILIES</th>\n",
       "      <th>Mainstream</th>\n",
       "      <td>3.737077</td>\n",
       "    </tr>\n",
       "    <tr>\n",
       "      <th>YOUNG FAMILIES</th>\n",
       "      <th>Mainstream</th>\n",
       "      <td>3.724533</td>\n",
       "    </tr>\n",
       "    <tr>\n",
       "      <th>OLDER FAMILIES</th>\n",
       "      <th>Premium</th>\n",
       "      <td>3.717000</td>\n",
       "    </tr>\n",
       "    <tr>\n",
       "      <th rowspan=\"2\" valign=\"top\">YOUNG SINGLES/COUPLES</th>\n",
       "      <th>Premium</th>\n",
       "      <td>3.665414</td>\n",
       "    </tr>\n",
       "    <tr>\n",
       "      <th>Budget</th>\n",
       "      <td>3.657366</td>\n",
       "    </tr>\n",
       "  </tbody>\n",
       "</table>\n",
       "</div>"
      ],
      "text/plain": [
       "                                              mean\n",
       "                                        UNIT_PRICE\n",
       "LIFESTAGE              PREMIUM_CUSTOMER           \n",
       "YOUNG SINGLES/COUPLES  Mainstream         4.065642\n",
       "MIDAGE SINGLES/COUPLES Mainstream         3.994241\n",
       "RETIREES               Budget             3.924404\n",
       "                       Premium            3.920942\n",
       "NEW FAMILIES           Budget             3.917688\n",
       "                       Mainstream         3.916133\n",
       "OLDER SINGLES/COUPLES  Premium            3.893236\n",
       "                       Budget             3.882096\n",
       "NEW FAMILIES           Premium            3.872110\n",
       "RETIREES               Mainstream         3.844294\n",
       "OLDER SINGLES/COUPLES  Mainstream         3.814665\n",
       "MIDAGE SINGLES/COUPLES Premium            3.770698\n",
       "YOUNG FAMILIES         Premium            3.762150\n",
       "                       Budget             3.760737\n",
       "OLDER FAMILIES         Budget             3.745340\n",
       "MIDAGE SINGLES/COUPLES Budget             3.743328\n",
       "OLDER FAMILIES         Mainstream         3.737077\n",
       "YOUNG FAMILIES         Mainstream         3.724533\n",
       "OLDER FAMILIES         Premium            3.717000\n",
       "YOUNG SINGLES/COUPLES  Premium            3.665414\n",
       "                       Budget             3.657366"
      ]
     },
     "execution_count": 59,
     "metadata": {},
     "output_type": "execute_result"
    }
   ],
   "source": [
    "pd.pivot_table(comb_table, index=['LIFESTAGE', 'PREMIUM_CUSTOMER'], values=['UNIT_PRICE'], aggfunc=[np.mean])\\\n",
    "    .sort_values(('mean', 'UNIT_PRICE'), ascending=False)"
   ]
  },
  {
   "cell_type": "code",
   "execution_count": 60,
   "id": "75b998cd",
   "metadata": {},
   "outputs": [
    {
     "name": "stdout",
     "output_type": "stream",
     "text": [
      "LeveneResult(statistic=106.48919288872399, pvalue=6.382127412511276e-25)\n",
      "Ttest_indResult(statistic=29.522268430576997, pvalue=2.795698078070072e-186)\n"
     ]
    }
   ],
   "source": [
    "# T-test for YOUNG SINGLES/COUPLES BUDGET and YOUNG SINGLES/COUPLES MAINSTREAM\n",
    "\n",
    "sample_A = comb_table[(comb_table['LIFESTAGE'] == 'YOUNG SINGLES/COUPLES') &\\\n",
    "           (comb_table['PREMIUM_CUSTOMER'] == 'Mainstream')]['UNIT_PRICE']\n",
    "sample_B = comb_table[(comb_table['LIFESTAGE'] == 'YOUNG SINGLES/COUPLES') &\\\n",
    "           (comb_table['PREMIUM_CUSTOMER'] == 'Budget')]['UNIT_PRICE']\n",
    "\n",
    "print(levene(sample_A, sample_B)) # small p-value suggests they do not have equal variances\n",
    "print(ttest_ind(sample_A, sample_B, equal_var=False)) # small p-value suggests they have significant difference"
   ]
  },
  {
   "cell_type": "markdown",
   "id": "cbcd1eb5",
   "metadata": {},
   "source": [
    "### Favourite brand by groups"
   ]
  },
  {
   "cell_type": "code",
   "execution_count": 61,
   "id": "bfd05db8",
   "metadata": {},
   "outputs": [
    {
     "data": {
      "text/html": [
       "<div>\n",
       "<style scoped>\n",
       "    .dataframe tbody tr th:only-of-type {\n",
       "        vertical-align: middle;\n",
       "    }\n",
       "\n",
       "    .dataframe tbody tr th {\n",
       "        vertical-align: top;\n",
       "    }\n",
       "\n",
       "    .dataframe thead th {\n",
       "        text-align: right;\n",
       "    }\n",
       "</style>\n",
       "<table border=\"1\" class=\"dataframe\">\n",
       "  <thead>\n",
       "    <tr style=\"text-align: right;\">\n",
       "      <th></th>\n",
       "      <th></th>\n",
       "      <th>BRAND_NAME</th>\n",
       "    </tr>\n",
       "    <tr>\n",
       "      <th>LIFESTAGE</th>\n",
       "      <th>PREMIUM_CUSTOMER</th>\n",
       "      <th></th>\n",
       "    </tr>\n",
       "  </thead>\n",
       "  <tbody>\n",
       "    <tr>\n",
       "      <th rowspan=\"3\" valign=\"top\">MIDAGE SINGLES/COUPLES</th>\n",
       "      <th>Budget</th>\n",
       "      <td>Kettle</td>\n",
       "    </tr>\n",
       "    <tr>\n",
       "      <th>Mainstream</th>\n",
       "      <td>Kettle</td>\n",
       "    </tr>\n",
       "    <tr>\n",
       "      <th>Premium</th>\n",
       "      <td>Kettle</td>\n",
       "    </tr>\n",
       "    <tr>\n",
       "      <th rowspan=\"3\" valign=\"top\">NEW FAMILIES</th>\n",
       "      <th>Budget</th>\n",
       "      <td>Kettle</td>\n",
       "    </tr>\n",
       "    <tr>\n",
       "      <th>Mainstream</th>\n",
       "      <td>Kettle</td>\n",
       "    </tr>\n",
       "    <tr>\n",
       "      <th>Premium</th>\n",
       "      <td>Kettle</td>\n",
       "    </tr>\n",
       "    <tr>\n",
       "      <th rowspan=\"3\" valign=\"top\">OLDER FAMILIES</th>\n",
       "      <th>Budget</th>\n",
       "      <td>Kettle</td>\n",
       "    </tr>\n",
       "    <tr>\n",
       "      <th>Mainstream</th>\n",
       "      <td>Kettle</td>\n",
       "    </tr>\n",
       "    <tr>\n",
       "      <th>Premium</th>\n",
       "      <td>Kettle</td>\n",
       "    </tr>\n",
       "    <tr>\n",
       "      <th rowspan=\"3\" valign=\"top\">OLDER SINGLES/COUPLES</th>\n",
       "      <th>Budget</th>\n",
       "      <td>Kettle</td>\n",
       "    </tr>\n",
       "    <tr>\n",
       "      <th>Mainstream</th>\n",
       "      <td>Kettle</td>\n",
       "    </tr>\n",
       "    <tr>\n",
       "      <th>Premium</th>\n",
       "      <td>Kettle</td>\n",
       "    </tr>\n",
       "    <tr>\n",
       "      <th rowspan=\"3\" valign=\"top\">RETIREES</th>\n",
       "      <th>Budget</th>\n",
       "      <td>Kettle</td>\n",
       "    </tr>\n",
       "    <tr>\n",
       "      <th>Mainstream</th>\n",
       "      <td>Kettle</td>\n",
       "    </tr>\n",
       "    <tr>\n",
       "      <th>Premium</th>\n",
       "      <td>Kettle</td>\n",
       "    </tr>\n",
       "    <tr>\n",
       "      <th rowspan=\"3\" valign=\"top\">YOUNG FAMILIES</th>\n",
       "      <th>Budget</th>\n",
       "      <td>Kettle</td>\n",
       "    </tr>\n",
       "    <tr>\n",
       "      <th>Mainstream</th>\n",
       "      <td>Kettle</td>\n",
       "    </tr>\n",
       "    <tr>\n",
       "      <th>Premium</th>\n",
       "      <td>Kettle</td>\n",
       "    </tr>\n",
       "    <tr>\n",
       "      <th rowspan=\"3\" valign=\"top\">YOUNG SINGLES/COUPLES</th>\n",
       "      <th>Budget</th>\n",
       "      <td>Kettle</td>\n",
       "    </tr>\n",
       "    <tr>\n",
       "      <th>Mainstream</th>\n",
       "      <td>Kettle</td>\n",
       "    </tr>\n",
       "    <tr>\n",
       "      <th>Premium</th>\n",
       "      <td>Kettle</td>\n",
       "    </tr>\n",
       "  </tbody>\n",
       "</table>\n",
       "</div>"
      ],
      "text/plain": [
       "                                        BRAND_NAME\n",
       "LIFESTAGE              PREMIUM_CUSTOMER           \n",
       "MIDAGE SINGLES/COUPLES Budget               Kettle\n",
       "                       Mainstream           Kettle\n",
       "                       Premium              Kettle\n",
       "NEW FAMILIES           Budget               Kettle\n",
       "                       Mainstream           Kettle\n",
       "                       Premium              Kettle\n",
       "OLDER FAMILIES         Budget               Kettle\n",
       "                       Mainstream           Kettle\n",
       "                       Premium              Kettle\n",
       "OLDER SINGLES/COUPLES  Budget               Kettle\n",
       "                       Mainstream           Kettle\n",
       "                       Premium              Kettle\n",
       "RETIREES               Budget               Kettle\n",
       "                       Mainstream           Kettle\n",
       "                       Premium              Kettle\n",
       "YOUNG FAMILIES         Budget               Kettle\n",
       "                       Mainstream           Kettle\n",
       "                       Premium              Kettle\n",
       "YOUNG SINGLES/COUPLES  Budget               Kettle\n",
       "                       Mainstream           Kettle\n",
       "                       Premium              Kettle"
      ]
     },
     "execution_count": 61,
     "metadata": {},
     "output_type": "execute_result"
    }
   ],
   "source": [
    "comb_table[['LIFESTAGE', 'PREMIUM_CUSTOMER', 'BRAND_NAME']].groupby(['LIFESTAGE', 'PREMIUM_CUSTOMER']).agg(lambda x: ss.mode(x)[0][0])"
   ]
  }
 ],
 "metadata": {
  "kernelspec": {
   "display_name": "Python 3",
   "language": "python",
   "name": "python3"
  },
  "language_info": {
   "codemirror_mode": {
    "name": "ipython",
    "version": 3
   },
   "file_extension": ".py",
   "mimetype": "text/x-python",
   "name": "python",
   "nbconvert_exporter": "python",
   "pygments_lexer": "ipython3",
   "version": "3.7.6"
  }
 },
 "nbformat": 4,
 "nbformat_minor": 5
}
